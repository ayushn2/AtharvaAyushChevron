{
 "cells": [
  {
   "cell_type": "code",
   "execution_count": 1,
   "metadata": {
    "id": "wdPGWDOPCHg0"
   },
   "outputs": [],
   "source": [
    "import pandas as pd\n",
    "import numpy as np\n",
    "import matplotlib.pyplot as plt"
   ]
  },
  {
   "cell_type": "code",
   "execution_count": 2,
   "metadata": {
    "id": "8uzKHIzaMgl1"
   },
   "outputs": [],
   "source": [
    "# from google.colab import drive\n",
    "# drive.mount('/content/drive')"
   ]
  },
  {
   "cell_type": "code",
   "execution_count": 3,
   "metadata": {
    "colab": {
     "base_uri": "https://localhost:8080/",
     "height": 310
    },
    "id": "-uojTO3zCWSv",
    "outputId": "563fde24-e4f4-4183-90b6-9ffa3d26654b"
   },
   "outputs": [
    {
     "data": {
      "text/html": [
       "<div>\n",
       "<style scoped>\n",
       "    .dataframe tbody tr th:only-of-type {\n",
       "        vertical-align: middle;\n",
       "    }\n",
       "\n",
       "    .dataframe tbody tr th {\n",
       "        vertical-align: top;\n",
       "    }\n",
       "\n",
       "    .dataframe thead th {\n",
       "        text-align: right;\n",
       "    }\n",
       "</style>\n",
       "<table border=\"1\" class=\"dataframe\">\n",
       "  <thead>\n",
       "    <tr style=\"text-align: right;\">\n",
       "      <th></th>\n",
       "      <th>Date</th>\n",
       "      <th>Adj Close Chevron stock</th>\n",
       "      <th>Adj Close Exxonmobil stock</th>\n",
       "      <th>Price S&amp;P Oil</th>\n",
       "      <th>Price treasury</th>\n",
       "      <th>Price WTI crude oil</th>\n",
       "      <th>Unnamed: 6</th>\n",
       "      <th>Unnamed: 7</th>\n",
       "    </tr>\n",
       "  </thead>\n",
       "  <tbody>\n",
       "    <tr>\n",
       "      <th>0</th>\n",
       "      <td>26-03-2014</td>\n",
       "      <td>78.867645</td>\n",
       "      <td>62.598408</td>\n",
       "      <td>10,876.50</td>\n",
       "      <td>2.694</td>\n",
       "      <td>100.23</td>\n",
       "      <td>NaN</td>\n",
       "      <td>NaN</td>\n",
       "    </tr>\n",
       "    <tr>\n",
       "      <th>1</th>\n",
       "      <td>27-03-2014</td>\n",
       "      <td>78.840851</td>\n",
       "      <td>63.616409</td>\n",
       "      <td>10,896.20</td>\n",
       "      <td>2.683</td>\n",
       "      <td>101.28</td>\n",
       "      <td>NaN</td>\n",
       "      <td>NaN</td>\n",
       "    </tr>\n",
       "    <tr>\n",
       "      <th>2</th>\n",
       "      <td>28-03-2014</td>\n",
       "      <td>79.396973</td>\n",
       "      <td>64.581490</td>\n",
       "      <td>10,959.70</td>\n",
       "      <td>2.723</td>\n",
       "      <td>101.60</td>\n",
       "      <td>NaN</td>\n",
       "      <td>NaN</td>\n",
       "    </tr>\n",
       "    <tr>\n",
       "      <th>3</th>\n",
       "      <td>31-03-2014</td>\n",
       "      <td>79.671669</td>\n",
       "      <td>64.568283</td>\n",
       "      <td>11,103.20</td>\n",
       "      <td>2.719</td>\n",
       "      <td>101.57</td>\n",
       "      <td>NaN</td>\n",
       "      <td>NaN</td>\n",
       "    </tr>\n",
       "    <tr>\n",
       "      <th>4</th>\n",
       "      <td>01-04-2014</td>\n",
       "      <td>79.731964</td>\n",
       "      <td>64.601311</td>\n",
       "      <td>11,153.90</td>\n",
       "      <td>2.755</td>\n",
       "      <td>99.69</td>\n",
       "      <td>NaN</td>\n",
       "      <td>NaN</td>\n",
       "    </tr>\n",
       "  </tbody>\n",
       "</table>\n",
       "</div>"
      ],
      "text/plain": [
       "         Date  Adj Close Chevron stock  Adj Close Exxonmobil stock  \\\n",
       "0  26-03-2014                78.867645                   62.598408   \n",
       "1  27-03-2014                78.840851                   63.616409   \n",
       "2  28-03-2014                79.396973                   64.581490   \n",
       "3  31-03-2014                79.671669                   64.568283   \n",
       "4  01-04-2014                79.731964                   64.601311   \n",
       "\n",
       "  Price S&P Oil  Price treasury  Price WTI crude oil  Unnamed: 6  Unnamed: 7  \n",
       "0     10,876.50           2.694               100.23         NaN         NaN  \n",
       "1     10,896.20           2.683               101.28         NaN         NaN  \n",
       "2     10,959.70           2.723               101.60         NaN         NaN  \n",
       "3     11,103.20           2.719               101.57         NaN         NaN  \n",
       "4     11,153.90           2.755                99.69         NaN         NaN  "
      ]
     },
     "execution_count": 3,
     "metadata": {},
     "output_type": "execute_result"
    }
   ],
   "source": [
    "df = pd.read_csv(\"assets/dc dataset final.csv\")\n",
    "df.head()"
   ]
  },
  {
   "cell_type": "code",
   "execution_count": 7,
   "metadata": {},
   "outputs": [
    {
     "data": {
      "text/plain": [
       "Index(['Date', 'Adj Close Chevron stock', 'Adj Close Exxonmobil stock',\n",
       "       'Price S&P Oil', 'Price treasury', 'Price WTI crude oil', 'Unnamed: 6',\n",
       "       'Unnamed: 7'],\n",
       "      dtype='object')"
      ]
     },
     "execution_count": 7,
     "metadata": {},
     "output_type": "execute_result"
    }
   ],
   "source": [
    "df.columns"
   ]
  },
  {
   "cell_type": "code",
   "execution_count": 9,
   "metadata": {
    "colab": {
     "base_uri": "https://localhost:8080/",
     "height": 206
    },
    "id": "ZHSm5GDkCwvC",
    "outputId": "af64ebb6-355a-42f0-b96b-233d806e4e26"
   },
   "outputs": [
    {
     "data": {
      "text/html": [
       "<div>\n",
       "<style scoped>\n",
       "    .dataframe tbody tr th:only-of-type {\n",
       "        vertical-align: middle;\n",
       "    }\n",
       "\n",
       "    .dataframe tbody tr th {\n",
       "        vertical-align: top;\n",
       "    }\n",
       "\n",
       "    .dataframe thead th {\n",
       "        text-align: right;\n",
       "    }\n",
       "</style>\n",
       "<table border=\"1\" class=\"dataframe\">\n",
       "  <thead>\n",
       "    <tr style=\"text-align: right;\">\n",
       "      <th></th>\n",
       "      <th>Date</th>\n",
       "      <th>Adj Close Chevron stock</th>\n",
       "      <th>Adj Close Exxonmobil stock</th>\n",
       "      <th>Price S&amp;P Oil</th>\n",
       "      <th>Price treasury</th>\n",
       "      <th>Price WTI crude oil</th>\n",
       "    </tr>\n",
       "  </thead>\n",
       "  <tbody>\n",
       "    <tr>\n",
       "      <th>0</th>\n",
       "      <td>26-03-2014</td>\n",
       "      <td>78.867645</td>\n",
       "      <td>62.598408</td>\n",
       "      <td>10,876.50</td>\n",
       "      <td>2.694</td>\n",
       "      <td>100.23</td>\n",
       "    </tr>\n",
       "    <tr>\n",
       "      <th>1</th>\n",
       "      <td>27-03-2014</td>\n",
       "      <td>78.840851</td>\n",
       "      <td>63.616409</td>\n",
       "      <td>10,896.20</td>\n",
       "      <td>2.683</td>\n",
       "      <td>101.28</td>\n",
       "    </tr>\n",
       "    <tr>\n",
       "      <th>2</th>\n",
       "      <td>28-03-2014</td>\n",
       "      <td>79.396973</td>\n",
       "      <td>64.581490</td>\n",
       "      <td>10,959.70</td>\n",
       "      <td>2.723</td>\n",
       "      <td>101.60</td>\n",
       "    </tr>\n",
       "    <tr>\n",
       "      <th>3</th>\n",
       "      <td>31-03-2014</td>\n",
       "      <td>79.671669</td>\n",
       "      <td>64.568283</td>\n",
       "      <td>11,103.20</td>\n",
       "      <td>2.719</td>\n",
       "      <td>101.57</td>\n",
       "    </tr>\n",
       "    <tr>\n",
       "      <th>4</th>\n",
       "      <td>01-04-2014</td>\n",
       "      <td>79.731964</td>\n",
       "      <td>64.601311</td>\n",
       "      <td>11,153.90</td>\n",
       "      <td>2.755</td>\n",
       "      <td>99.69</td>\n",
       "    </tr>\n",
       "  </tbody>\n",
       "</table>\n",
       "</div>"
      ],
      "text/plain": [
       "         Date  Adj Close Chevron stock  Adj Close Exxonmobil stock  \\\n",
       "0  26-03-2014                78.867645                   62.598408   \n",
       "1  27-03-2014                78.840851                   63.616409   \n",
       "2  28-03-2014                79.396973                   64.581490   \n",
       "3  31-03-2014                79.671669                   64.568283   \n",
       "4  01-04-2014                79.731964                   64.601311   \n",
       "\n",
       "  Price S&P Oil  Price treasury  Price WTI crude oil  \n",
       "0     10,876.50           2.694               100.23  \n",
       "1     10,896.20           2.683               101.28  \n",
       "2     10,959.70           2.723               101.60  \n",
       "3     11,103.20           2.719               101.57  \n",
       "4     11,153.90           2.755                99.69  "
      ]
     },
     "execution_count": 9,
     "metadata": {},
     "output_type": "execute_result"
    }
   ],
   "source": [
    "df = df.drop(\"Unnamed: 7\",axis=1)\n",
    "df = df.drop(\"Unnamed: 6\",axis=1)\n",
    "df.head()"
   ]
  },
  {
   "cell_type": "code",
   "execution_count": 11,
   "metadata": {
    "colab": {
     "base_uri": "https://localhost:8080/",
     "height": 206
    },
    "id": "b70syzovGYtU",
    "outputId": "3d7e522d-1252-4a7a-f725-7aadf8796d1d"
   },
   "outputs": [
    {
     "data": {
      "text/html": [
       "<div>\n",
       "<style scoped>\n",
       "    .dataframe tbody tr th:only-of-type {\n",
       "        vertical-align: middle;\n",
       "    }\n",
       "\n",
       "    .dataframe tbody tr th {\n",
       "        vertical-align: top;\n",
       "    }\n",
       "\n",
       "    .dataframe thead th {\n",
       "        text-align: right;\n",
       "    }\n",
       "</style>\n",
       "<table border=\"1\" class=\"dataframe\">\n",
       "  <thead>\n",
       "    <tr style=\"text-align: right;\">\n",
       "      <th></th>\n",
       "      <th>Date</th>\n",
       "      <th>Adj Close Chevron stock</th>\n",
       "      <th>Adj Close Exxonmobil stock</th>\n",
       "      <th>Price S&amp;P Oil</th>\n",
       "      <th>Price treasury</th>\n",
       "      <th>Price WTI crude oil</th>\n",
       "    </tr>\n",
       "  </thead>\n",
       "  <tbody>\n",
       "    <tr>\n",
       "      <th>0</th>\n",
       "      <td>2014-03-26</td>\n",
       "      <td>78.867645</td>\n",
       "      <td>62.598408</td>\n",
       "      <td>10,876.50</td>\n",
       "      <td>2.694</td>\n",
       "      <td>100.23</td>\n",
       "    </tr>\n",
       "    <tr>\n",
       "      <th>1</th>\n",
       "      <td>2014-03-27</td>\n",
       "      <td>78.840851</td>\n",
       "      <td>63.616409</td>\n",
       "      <td>10,896.20</td>\n",
       "      <td>2.683</td>\n",
       "      <td>101.28</td>\n",
       "    </tr>\n",
       "    <tr>\n",
       "      <th>2</th>\n",
       "      <td>2014-03-28</td>\n",
       "      <td>79.396973</td>\n",
       "      <td>64.581490</td>\n",
       "      <td>10,959.70</td>\n",
       "      <td>2.723</td>\n",
       "      <td>101.60</td>\n",
       "    </tr>\n",
       "    <tr>\n",
       "      <th>3</th>\n",
       "      <td>2014-03-31</td>\n",
       "      <td>79.671669</td>\n",
       "      <td>64.568283</td>\n",
       "      <td>11,103.20</td>\n",
       "      <td>2.719</td>\n",
       "      <td>101.57</td>\n",
       "    </tr>\n",
       "    <tr>\n",
       "      <th>4</th>\n",
       "      <td>2014-04-01</td>\n",
       "      <td>79.731964</td>\n",
       "      <td>64.601311</td>\n",
       "      <td>11,153.90</td>\n",
       "      <td>2.755</td>\n",
       "      <td>99.69</td>\n",
       "    </tr>\n",
       "  </tbody>\n",
       "</table>\n",
       "</div>"
      ],
      "text/plain": [
       "        Date  Adj Close Chevron stock  Adj Close Exxonmobil stock  \\\n",
       "0 2014-03-26                78.867645                   62.598408   \n",
       "1 2014-03-27                78.840851                   63.616409   \n",
       "2 2014-03-28                79.396973                   64.581490   \n",
       "3 2014-03-31                79.671669                   64.568283   \n",
       "4 2014-04-01                79.731964                   64.601311   \n",
       "\n",
       "  Price S&P Oil  Price treasury  Price WTI crude oil  \n",
       "0     10,876.50           2.694               100.23  \n",
       "1     10,896.20           2.683               101.28  \n",
       "2     10,959.70           2.723               101.60  \n",
       "3     11,103.20           2.719               101.57  \n",
       "4     11,153.90           2.755                99.69  "
      ]
     },
     "execution_count": 11,
     "metadata": {},
     "output_type": "execute_result"
    }
   ],
   "source": [
    "df[\"Date\"] = pd.to_datetime(df[\"Date\"], format='%d-%m-%Y', errors='coerce')\n",
    "df.head()"
   ]
  },
  {
   "cell_type": "code",
   "execution_count": 13,
   "metadata": {},
   "outputs": [
    {
     "data": {
      "text/html": [
       "<div>\n",
       "<style scoped>\n",
       "    .dataframe tbody tr th:only-of-type {\n",
       "        vertical-align: middle;\n",
       "    }\n",
       "\n",
       "    .dataframe tbody tr th {\n",
       "        vertical-align: top;\n",
       "    }\n",
       "\n",
       "    .dataframe thead th {\n",
       "        text-align: right;\n",
       "    }\n",
       "</style>\n",
       "<table border=\"1\" class=\"dataframe\">\n",
       "  <thead>\n",
       "    <tr style=\"text-align: right;\">\n",
       "      <th></th>\n",
       "      <th>Date</th>\n",
       "      <th>Adj Close Chevron stock</th>\n",
       "      <th>Adj Close Exxonmobil stock</th>\n",
       "      <th>Price S&amp;P Oil</th>\n",
       "      <th>Price treasury</th>\n",
       "      <th>Price WTI crude oil</th>\n",
       "    </tr>\n",
       "  </thead>\n",
       "  <tbody>\n",
       "    <tr>\n",
       "      <th>1254</th>\n",
       "      <td>2019-03-20</td>\n",
       "      <td>102.136162</td>\n",
       "      <td>64.249138</td>\n",
       "      <td>4,797.00</td>\n",
       "      <td>2.668</td>\n",
       "      <td>58.26</td>\n",
       "    </tr>\n",
       "    <tr>\n",
       "      <th>1255</th>\n",
       "      <td>2019-03-21</td>\n",
       "      <td>103.094521</td>\n",
       "      <td>64.620468</td>\n",
       "      <td>4,578.70</td>\n",
       "      <td>2.698</td>\n",
       "      <td>58.61</td>\n",
       "    </tr>\n",
       "    <tr>\n",
       "      <th>1256</th>\n",
       "      <td>2019-03-22</td>\n",
       "      <td>100.825546</td>\n",
       "      <td>63.585484</td>\n",
       "      <td>4,581.00</td>\n",
       "      <td>2.730</td>\n",
       "      <td>58.52</td>\n",
       "    </tr>\n",
       "    <tr>\n",
       "      <th>1257</th>\n",
       "      <td>NaT</td>\n",
       "      <td>NaN</td>\n",
       "      <td>NaN</td>\n",
       "      <td>NaN</td>\n",
       "      <td>NaN</td>\n",
       "      <td>NaN</td>\n",
       "    </tr>\n",
       "    <tr>\n",
       "      <th>1258</th>\n",
       "      <td>NaT</td>\n",
       "      <td>NaN</td>\n",
       "      <td>NaN</td>\n",
       "      <td>NaN</td>\n",
       "      <td>NaN</td>\n",
       "      <td>NaN</td>\n",
       "    </tr>\n",
       "  </tbody>\n",
       "</table>\n",
       "</div>"
      ],
      "text/plain": [
       "           Date  Adj Close Chevron stock  Adj Close Exxonmobil stock  \\\n",
       "1254 2019-03-20               102.136162                   64.249138   \n",
       "1255 2019-03-21               103.094521                   64.620468   \n",
       "1256 2019-03-22               100.825546                   63.585484   \n",
       "1257        NaT                      NaN                         NaN   \n",
       "1258        NaT                      NaN                         NaN   \n",
       "\n",
       "     Price S&P Oil  Price treasury  Price WTI crude oil  \n",
       "1254      4,797.00           2.668                58.26  \n",
       "1255      4,578.70           2.698                58.61  \n",
       "1256      4,581.00           2.730                58.52  \n",
       "1257           NaN             NaN                  NaN  \n",
       "1258           NaN             NaN                  NaN  "
      ]
     },
     "execution_count": 13,
     "metadata": {},
     "output_type": "execute_result"
    }
   ],
   "source": [
    "df.tail()"
   ]
  },
  {
   "cell_type": "code",
   "execution_count": 15,
   "metadata": {},
   "outputs": [
    {
     "data": {
      "text/html": [
       "<div>\n",
       "<style scoped>\n",
       "    .dataframe tbody tr th:only-of-type {\n",
       "        vertical-align: middle;\n",
       "    }\n",
       "\n",
       "    .dataframe tbody tr th {\n",
       "        vertical-align: top;\n",
       "    }\n",
       "\n",
       "    .dataframe thead th {\n",
       "        text-align: right;\n",
       "    }\n",
       "</style>\n",
       "<table border=\"1\" class=\"dataframe\">\n",
       "  <thead>\n",
       "    <tr style=\"text-align: right;\">\n",
       "      <th></th>\n",
       "      <th>Date</th>\n",
       "      <th>Adj Close Chevron stock</th>\n",
       "      <th>Adj Close Exxonmobil stock</th>\n",
       "      <th>Price S&amp;P Oil</th>\n",
       "      <th>Price treasury</th>\n",
       "      <th>Price WTI crude oil</th>\n",
       "    </tr>\n",
       "  </thead>\n",
       "  <tbody>\n",
       "    <tr>\n",
       "      <th>1252</th>\n",
       "      <td>2019-03-18</td>\n",
       "      <td>103.110886</td>\n",
       "      <td>64.059532</td>\n",
       "      <td>4,599.00</td>\n",
       "      <td>2.633</td>\n",
       "      <td>56.07</td>\n",
       "    </tr>\n",
       "    <tr>\n",
       "      <th>1253</th>\n",
       "      <td>2019-03-19</td>\n",
       "      <td>102.619423</td>\n",
       "      <td>63.893593</td>\n",
       "      <td>4,731.60</td>\n",
       "      <td>2.552</td>\n",
       "      <td>56.87</td>\n",
       "    </tr>\n",
       "    <tr>\n",
       "      <th>1254</th>\n",
       "      <td>2019-03-20</td>\n",
       "      <td>102.136162</td>\n",
       "      <td>64.249138</td>\n",
       "      <td>4,797.00</td>\n",
       "      <td>2.668</td>\n",
       "      <td>58.26</td>\n",
       "    </tr>\n",
       "    <tr>\n",
       "      <th>1255</th>\n",
       "      <td>2019-03-21</td>\n",
       "      <td>103.094521</td>\n",
       "      <td>64.620468</td>\n",
       "      <td>4,578.70</td>\n",
       "      <td>2.698</td>\n",
       "      <td>58.61</td>\n",
       "    </tr>\n",
       "    <tr>\n",
       "      <th>1256</th>\n",
       "      <td>2019-03-22</td>\n",
       "      <td>100.825546</td>\n",
       "      <td>63.585484</td>\n",
       "      <td>4,581.00</td>\n",
       "      <td>2.730</td>\n",
       "      <td>58.52</td>\n",
       "    </tr>\n",
       "  </tbody>\n",
       "</table>\n",
       "</div>"
      ],
      "text/plain": [
       "           Date  Adj Close Chevron stock  Adj Close Exxonmobil stock  \\\n",
       "1252 2019-03-18               103.110886                   64.059532   \n",
       "1253 2019-03-19               102.619423                   63.893593   \n",
       "1254 2019-03-20               102.136162                   64.249138   \n",
       "1255 2019-03-21               103.094521                   64.620468   \n",
       "1256 2019-03-22               100.825546                   63.585484   \n",
       "\n",
       "     Price S&P Oil  Price treasury  Price WTI crude oil  \n",
       "1252      4,599.00           2.633                56.07  \n",
       "1253      4,731.60           2.552                56.87  \n",
       "1254      4,797.00           2.668                58.26  \n",
       "1255      4,578.70           2.698                58.61  \n",
       "1256      4,581.00           2.730                58.52  "
      ]
     },
     "execution_count": 15,
     "metadata": {},
     "output_type": "execute_result"
    }
   ],
   "source": [
    "## Remove the last two 'NaN' rows\n",
    "df = df.drop([1257, 1258])\n",
    "df.tail()"
   ]
  },
  {
   "cell_type": "code",
   "execution_count": 17,
   "metadata": {},
   "outputs": [
    {
     "name": "stdout",
     "output_type": "stream",
     "text": [
      "49.736332\n",
      "104.320641\n"
     ]
    }
   ],
   "source": [
    "print(min(df[\"Adj Close Chevron stock\"]))\n",
    "print(max(df[\"Adj Close Chevron stock\"]))"
   ]
  },
  {
   "cell_type": "code",
   "execution_count": 19,
   "metadata": {},
   "outputs": [
    {
     "name": "stdout",
     "output_type": "stream",
     "text": [
      "47.554298\n",
      "69.465523\n"
     ]
    }
   ],
   "source": [
    "print(min(df[\"Adj Close Exxonmobil stock\"]))\n",
    "print(max(df[\"Adj Close Exxonmobil stock\"]))"
   ]
  },
  {
   "cell_type": "code",
   "execution_count": 21,
   "metadata": {},
   "outputs": [
    {
     "name": "stdout",
     "output_type": "stream",
     "text": [
      "1.358\n",
      "3.239\n"
     ]
    }
   ],
   "source": [
    "print(min(df[\"Price treasury\"]))\n",
    "print(max(df[\"Price treasury\"]))"
   ]
  },
  {
   "cell_type": "code",
   "execution_count": 23,
   "metadata": {},
   "outputs": [
    {
     "name": "stdout",
     "output_type": "stream",
     "text": [
      "26.2\n",
      "107.3\n"
     ]
    }
   ],
   "source": [
    "print(min(df[\"Price WTI crude oil\"]))\n",
    "print(max(df[\"Price WTI crude oil\"]))"
   ]
  },
  {
   "cell_type": "code",
   "execution_count": 25,
   "metadata": {
    "colab": {
     "base_uri": "https://localhost:8080/"
    },
    "id": "Mw0NblzuFuHp",
    "outputId": "4009af07-1deb-4983-dc98-7553757bbe87"
   },
   "outputs": [
    {
     "data": {
      "text/plain": [
       "dtype('<M8[ns]')"
      ]
     },
     "execution_count": 25,
     "metadata": {},
     "output_type": "execute_result"
    }
   ],
   "source": [
    "df[\"Date\"].dtype"
   ]
  },
  {
   "cell_type": "code",
   "execution_count": 27,
   "metadata": {
    "colab": {
     "base_uri": "https://localhost:8080/",
     "height": 472
    },
    "id": "Y4XaaYnGGrkq",
    "outputId": "3cb844f3-a487-46ec-de12-dc22cac0633a"
   },
   "outputs": [
    {
     "data": {
      "image/png": "[encoded data removed]",
      "text/plain": [
       "<Figure size 640x480 with 1 Axes>"
      ]
     },
     "metadata": {},
     "output_type": "display_data"
    }
   ],
   "source": [
    "plt.plot(df[\"Date\"], df[\"Adj Close Chevron stock\"])\n",
    "plt.xlabel(\"Day\")\n",
    "plt.ylabel(\"Adjusted Closing Price (in USD)\")\n",
    "plt.title(\"Chevron\")\n",
    "plt.show()"
   ]
  },
  {
   "cell_type": "code",
   "execution_count": 29,
   "metadata": {
    "id": "PN1VaLCYH7d6"
   },
   "outputs": [
    {
     "name": "stdout",
     "output_type": "stream",
     "text": [
      "3582.7\n",
      "12669.7\n"
     ]
    }
   ],
   "source": [
    "df[\"Price S&P Oil\"] = pd.to_numeric(df[\"Price S&P Oil\"].str.replace(',', ''), errors='coerce')\n",
    "# df[\"Price S&P Oil\"] = df[\"Price S&P Oil\"].astype(str)\n",
    "# df[\"Price S&P Oil\"] = df[\"Price S&P Oil\"].str.replace(\",\", \"\")\n",
    "# df[\"Price S&P Oil\"] = df[\"Price S&P Oil\"].astype(float)\n",
    "print(min(df[\"Price S&P Oil\"]))\n",
    "print(max(df[\"Price S&P Oil\"]))"
   ]
  },
  {
   "cell_type": "code",
   "execution_count": 31,
   "metadata": {},
   "outputs": [
    {
     "data": {
      "image/png": "[encoded data removed]",
      "text/plain": [
       "<Figure size 640x480 with 1 Axes>"
      ]
     },
     "metadata": {},
     "output_type": "display_data"
    }
   ],
   "source": [
    "plt.plot(df[\"Date\"], df[\"Price S&P Oil\"], label='S&P Oil', color='red')\n",
    "plt.xlabel(\"Day\")\n",
    "plt.ylabel(\"Closing Price (in USD)\")\n",
    "plt.title(\"S&P Oil\")\n",
    "plt.show()"
   ]
  },
  {
   "cell_type": "code",
   "execution_count": 33,
   "metadata": {},
   "outputs": [
    {
     "data": {
      "image/png": "[encoded data removed]",
      "text/plain": [
       "<Figure size 1200x600 with 4 Axes>"
      ]
     },
     "metadata": {},
     "output_type": "display_data"
    }
   ],
   "source": [
    "plt.figure(figsize=(12, 6))\n",
    "\n",
    "plt.subplot(2, 2, 1)\n",
    "plt.plot(df[\"Date\"], df[\"Adj Close Chevron stock\"], label='Chevron', color='blue')\n",
    "plt.plot(df[\"Date\"], df[\"Adj Close Exxonmobil stock\"], label='ExxonMobil', color='green')\n",
    "plt.ylabel(\"Price (in USD)\")\n",
    "plt.legend()\n",
    "\n",
    "plt.subplot(2, 2, 2)\n",
    "plt.plot(df[\"Date\"], df[\"Price S&P Oil\"], label='S&P Oil', color='red')\n",
    "plt.legend()\n",
    "\n",
    "plt.subplot(2, 2, 3)\n",
    "plt.plot(df[\"Date\"], df[\"Price treasury\"], label='Treasury', color='orange')\n",
    "plt.ylabel(\"Price (in USD)\")\n",
    "plt.xlabel(\"Day\")\n",
    "plt.legend()\n",
    "\n",
    "plt.subplot(2, 2, 4)\n",
    "plt.plot(df[\"Date\"], df[\"Price WTI crude oil\"], label='WTI Crude Oil', color='purple')\n",
    "plt.xlabel(\"Day\")\n",
    "plt.legend()\n",
    "\n",
    "plt.show()"
   ]
  },
  {
   "cell_type": "code",
   "execution_count": 35,
   "metadata": {
    "colab": {
     "base_uri": "https://localhost:8080/",
     "height": 564
    },
    "id": "bha8zFKDFa2u",
    "outputId": "6ef7f603-5d14-4481-d11b-289256942569"
   },
   "outputs": [],
   "source": [
    "# plt.figure(figsize=(12, 6))\n",
    "\n",
    "# plt.plot(df[\"Date\"], df[\"Adj Close Chevron stock\"], label='Chevron', color='blue')\n",
    "\n",
    "# plt.plot(df[\"Date\"], df[\"Adj Close Exxommobil stock\"], label='ExxonMobil', color='green')\n",
    "\n",
    "# plt.plot(df[\"Date\"], df[\"Price S&P Oil\"], label='S&P Oil', color='red')\n",
    "\n",
    "# plt.plot(df[\"Date\"], df[\"Price treasury\"], label='Treasury', color='orange')\n",
    "\n",
    "# plt.plot(df[\"Date\"], df[\"Price WTI crude oil\"], label='WTI Crude Oil', color='purple')\n",
    "\n",
    "# plt.xlabel(\"Date\")\n",
    "# plt.ylabel(\"Price\")\n",
    "# plt.title(\"Stock and Oil Prices Over Time\")\n",
    "# plt.legend()\n",
    "# plt.show()"
   ]
  },
  {
   "cell_type": "code",
   "execution_count": 37,
   "metadata": {
    "id": "3IHBhG9CIzka"
   },
   "outputs": [],
   "source": [
    "from sklearn.preprocessing import StandardScaler\n",
    "\n",
    "columns_to_normalize = df.columns[1:]\n",
    "\n",
    "## Moved to an earlier cell\n",
    "# df[\"Price S&P Oil\"] = pd.to_numeric(df[\"Price S&P Oil\"].str.replace(',', ''), errors='coerce')\n",
    "\n",
    "## Perform zero mean and unit variance normalization.\n",
    "## Ref1: https://www.geeksforgeeks.org/what-is-zero-mean-and-unit-variance-normalization/\n",
    "## Ref2: https://scikit-learn.org/stable/modules/generated/sklearn.preprocessing.StandardScaler.html#sklearn.preprocessing.StandardScaler.fit_transform\n",
    "scaler = StandardScaler()\n",
    "for column in columns_to_normalize:\n",
    "    df[column] = scaler.fit_transform(df[[column]])"
   ]
  },
  {
   "cell_type": "code",
   "execution_count": 38,
   "metadata": {
    "colab": {
     "base_uri": "https://localhost:8080/",
     "height": 206
    },
    "id": "CUQzeUdbHeLF",
    "outputId": "47b7d6ba-3a4c-45fa-8cd0-e061de962521"
   },
   "outputs": [
    {
     "data": {
      "text/html": [
       "<div>\n",
       "<style scoped>\n",
       "    .dataframe tbody tr th:only-of-type {\n",
       "        vertical-align: middle;\n",
       "    }\n",
       "\n",
       "    .dataframe tbody tr th {\n",
       "        vertical-align: top;\n",
       "    }\n",
       "\n",
       "    .dataframe thead th {\n",
       "        text-align: right;\n",
       "    }\n",
       "</style>\n",
       "<table border=\"1\" class=\"dataframe\">\n",
       "  <thead>\n",
       "    <tr style=\"text-align: right;\">\n",
       "      <th></th>\n",
       "      <th>Date</th>\n",
       "      <th>Adj Close Chevron stock</th>\n",
       "      <th>Adj Close Exxonmobil stock</th>\n",
       "      <th>Price S&amp;P Oil</th>\n",
       "      <th>Price treasury</th>\n",
       "      <th>Price WTI crude oil</th>\n",
       "    </tr>\n",
       "  </thead>\n",
       "  <tbody>\n",
       "    <tr>\n",
       "      <th>0</th>\n",
       "      <td>2014-03-26</td>\n",
       "      <td>-0.229418</td>\n",
       "      <td>0.467524</td>\n",
       "      <td>2.155907</td>\n",
       "      <td>0.895331</td>\n",
       "      <td>2.360919</td>\n",
       "    </tr>\n",
       "    <tr>\n",
       "      <th>1</th>\n",
       "      <td>2014-03-27</td>\n",
       "      <td>-0.231706</td>\n",
       "      <td>0.727092</td>\n",
       "      <td>2.165416</td>\n",
       "      <td>0.868502</td>\n",
       "      <td>2.419916</td>\n",
       "    </tr>\n",
       "    <tr>\n",
       "      <th>2</th>\n",
       "      <td>2014-03-28</td>\n",
       "      <td>-0.184200</td>\n",
       "      <td>0.973167</td>\n",
       "      <td>2.196066</td>\n",
       "      <td>0.966062</td>\n",
       "      <td>2.437897</td>\n",
       "    </tr>\n",
       "    <tr>\n",
       "      <th>3</th>\n",
       "      <td>2014-03-31</td>\n",
       "      <td>-0.160734</td>\n",
       "      <td>0.969800</td>\n",
       "      <td>2.265329</td>\n",
       "      <td>0.956306</td>\n",
       "      <td>2.436211</td>\n",
       "    </tr>\n",
       "    <tr>\n",
       "      <th>4</th>\n",
       "      <td>2014-04-01</td>\n",
       "      <td>-0.155583</td>\n",
       "      <td>0.978221</td>\n",
       "      <td>2.289801</td>\n",
       "      <td>1.044110</td>\n",
       "      <td>2.330577</td>\n",
       "    </tr>\n",
       "  </tbody>\n",
       "</table>\n",
       "</div>"
      ],
      "text/plain": [
       "        Date  Adj Close Chevron stock  Adj Close Exxonmobil stock  \\\n",
       "0 2014-03-26                -0.229418                    0.467524   \n",
       "1 2014-03-27                -0.231706                    0.727092   \n",
       "2 2014-03-28                -0.184200                    0.973167   \n",
       "3 2014-03-31                -0.160734                    0.969800   \n",
       "4 2014-04-01                -0.155583                    0.978221   \n",
       "\n",
       "   Price S&P Oil  Price treasury  Price WTI crude oil  \n",
       "0       2.155907        0.895331             2.360919  \n",
       "1       2.165416        0.868502             2.419916  \n",
       "2       2.196066        0.966062             2.437897  \n",
       "3       2.265329        0.956306             2.436211  \n",
       "4       2.289801        1.044110             2.330577  "
      ]
     },
     "execution_count": 38,
     "metadata": {},
     "output_type": "execute_result"
    }
   ],
   "source": [
    "df.head()"
   ]
  },
  {
   "cell_type": "code",
   "execution_count": 41,
   "metadata": {},
   "outputs": [
    {
     "name": "stdout",
     "output_type": "stream",
     "text": [
      "-2.7179575440141117\n",
      "1.9449023946265356\n"
     ]
    }
   ],
   "source": [
    "print(min(df[\"Adj Close Chevron stock\"]))\n",
    "print(max(df[\"Adj Close Chevron stock\"]))"
   ]
  },
  {
   "cell_type": "code",
   "execution_count": 43,
   "metadata": {},
   "outputs": [
    {
     "name": "stdout",
     "output_type": "stream",
     "text": [
      "-3.3684016266929513\n",
      "2.2184906370812825\n"
     ]
    }
   ],
   "source": [
    "print(min(df[\"Adj Close Exxonmobil stock\"]))\n",
    "print(max(df[\"Adj Close Exxonmobil stock\"]))"
   ]
  },
  {
   "cell_type": "code",
   "execution_count": 45,
   "metadata": {},
   "outputs": [
    {
     "name": "stdout",
     "output_type": "stream",
     "text": [
      "-1.364633039089244\n",
      "3.0214409631262247\n"
     ]
    }
   ],
   "source": [
    "print(min(df[\"Price S&P Oil\"]))\n",
    "print(max(df[\"Price S&P Oil\"]))"
   ]
  },
  {
   "cell_type": "code",
   "execution_count": 47,
   "metadata": {},
   "outputs": [
    {
     "name": "stdout",
     "output_type": "stream",
     "text": [
      "-2.36317439876108\n",
      "2.224585991605352\n"
     ]
    }
   ],
   "source": [
    "print(min(df[\"Price treasury\"]))\n",
    "print(max(df[\"Price treasury\"]))"
   ]
  },
  {
   "cell_type": "code",
   "execution_count": 49,
   "metadata": {},
   "outputs": [
    {
     "name": "stdout",
     "output_type": "stream",
     "text": [
      "-1.7986955045732589\n",
      "2.758169575062348\n"
     ]
    }
   ],
   "source": [
    "print(min(df[\"Price WTI crude oil\"]))\n",
    "print(max(df[\"Price WTI crude oil\"]))"
   ]
  },
  {
   "cell_type": "code",
   "execution_count": 51,
   "metadata": {},
   "outputs": [],
   "source": [
    "# df.tail()"
   ]
  },
  {
   "cell_type": "code",
   "execution_count": 53,
   "metadata": {
    "colab": {
     "base_uri": "https://localhost:8080/"
    },
    "id": "FaDKOaVraev4",
    "outputId": "63e54c81-9194-4f6a-bed4-a2e155698932"
   },
   "outputs": [],
   "source": [
    "# df = df.drop(df.tail(3).index)\n",
    "# df = df.drop(df.tail(2).index)\n",
    "# len(df)"
   ]
  },
  {
   "cell_type": "code",
   "execution_count": 55,
   "metadata": {},
   "outputs": [],
   "source": [
    "# df.tail()"
   ]
  },
  {
   "cell_type": "code",
   "execution_count": 57,
   "metadata": {
    "colab": {
     "base_uri": "https://localhost:8080/",
     "height": 564
    },
    "id": "PujhMoLXKrDh",
    "outputId": "e526db19-dcd8-4392-a0d7-48ab002bef5d"
   },
   "outputs": [
    {
     "data": {
      "image/png": "[encoded data removed]",
      "text/plain": [
       "<Figure size 1200x600 with 1 Axes>"
      ]
     },
     "metadata": {},
     "output_type": "display_data"
    }
   ],
   "source": [
    "plt.figure(figsize=(12, 6))\n",
    "\n",
    "plt.plot(df[\"Date\"], df[\"Adj Close Chevron stock\"], label='Chevron', color='blue')\n",
    "\n",
    "plt.plot(df[\"Date\"], df[\"Adj Close Exxonmobil stock\"], label='ExxonMobil', color='green')\n",
    "\n",
    "plt.plot(df[\"Date\"], df[\"Price S&P Oil\"], label='S&P Oil', color='red')\n",
    "\n",
    "plt.plot(df[\"Date\"], df[\"Price treasury\"], label='Treasury', color='orange')\n",
    "\n",
    "plt.plot(df[\"Date\"], df[\"Price WTI crude oil\"], label='WTI Crude Oil', color='purple')\n",
    "\n",
    "plt.xlabel(\"Date\")\n",
    "plt.ylabel(\"Price\")\n",
    "plt.title(\"Stock and Oil Prices Over Time\")\n",
    "plt.legend()\n",
    "plt.show()"
   ]
  },
  {
   "cell_type": "markdown",
   "metadata": {
    "id": "g0-Xa_8FPq0a"
   },
   "source": [
    "#Discretizing the dataset"
   ]
  },
  {
   "cell_type": "code",
   "execution_count": 60,
   "metadata": {
    "id": "S69OXXXWNWNi"
   },
   "outputs": [],
   "source": [
    "import pandas as pd\n",
    "from sklearn.preprocessing import KBinsDiscretizer\n",
    "from sklearn.impute import SimpleImputer\n",
    "\n",
    "features_to_discretize = ['Adj Close Chevron stock', 'Adj Close Exxonmobil stock', 'Price S&P Oil', 'Price treasury', 'Price WTI crude oil']\n",
    "\n",
    "## Discretize each feature into five discrete levels [0, 4].\n",
    "## The intention for using five discrete levels is to capture the following states:\n",
    "## 0 = Significantly undervalued\n",
    "## 1 = Slightly undervalued\n",
    "## 2 = True value range of the stock\n",
    "## 3 = Slightly overvalued\n",
    "## 4 = Significantly overvalued \n",
    "##\n",
    "num_bins = 5\n",
    "\n",
    "## Preserve the original dataframe and create a copy\n",
    "df_discretized = df.copy()\n",
    "\n",
    "for feature in features_to_discretize:\n",
    "\n",
    "    ## Create a column vector containing the values of the current feature\n",
    "    data = df[feature].values.reshape(-1,1)\n",
    "\n",
    "    ## Fill in the missing values by replacing them with the arithmetic mean of the column vector.\n",
    "    ## Ref1: https://scikit-learn.org/stable/modules/generated/sklearn.impute.SimpleImputer.html\n",
    "    ## Ref2: https://www.analyticsvidhya.com/blog/2022/10/handling-missing-data-with-simpleimputer/\n",
    "    imputer = SimpleImputer(strategy='mean')\n",
    "    df[feature] = imputer.fit_transform(df[[feature]])\n",
    "\n",
    "    ## Distribute the values uniformly into five discrete levels i.e. each level will have equal number of values.\n",
    "    ## The discrete levels are represented by ordinal numbers. \n",
    "    ## Ref: https://scikit-learn.org/stable/modules/generated/sklearn.preprocessing.KBinsDiscretizer.html\n",
    "    kbins_discretizer = KBinsDiscretizer(n_bins=num_bins, encode='ordinal', strategy='uniform')\n",
    "    df_discretized[f'{feature}_discretized'] = kbins_discretizer.fit_transform(data)"
   ]
  },
  {
   "cell_type": "code",
   "execution_count": 62,
   "metadata": {},
   "outputs": [
    {
     "data": {
      "text/html": [
       "<div>\n",
       "<style scoped>\n",
       "    .dataframe tbody tr th:only-of-type {\n",
       "        vertical-align: middle;\n",
       "    }\n",
       "\n",
       "    .dataframe tbody tr th {\n",
       "        vertical-align: top;\n",
       "    }\n",
       "\n",
       "    .dataframe thead th {\n",
       "        text-align: right;\n",
       "    }\n",
       "</style>\n",
       "<table border=\"1\" class=\"dataframe\">\n",
       "  <thead>\n",
       "    <tr style=\"text-align: right;\">\n",
       "      <th></th>\n",
       "      <th>Date</th>\n",
       "      <th>Adj Close Chevron stock</th>\n",
       "      <th>Adj Close Exxonmobil stock</th>\n",
       "      <th>Price S&amp;P Oil</th>\n",
       "      <th>Price treasury</th>\n",
       "      <th>Price WTI crude oil</th>\n",
       "      <th>Adj Close Chevron stock_discretized</th>\n",
       "      <th>Adj Close Exxonmobil stock_discretized</th>\n",
       "      <th>Price S&amp;P Oil_discretized</th>\n",
       "      <th>Price treasury_discretized</th>\n",
       "      <th>Price WTI crude oil_discretized</th>\n",
       "    </tr>\n",
       "  </thead>\n",
       "  <tbody>\n",
       "    <tr>\n",
       "      <th>0</th>\n",
       "      <td>2014-03-26</td>\n",
       "      <td>-0.229418</td>\n",
       "      <td>0.467524</td>\n",
       "      <td>2.155907</td>\n",
       "      <td>0.895331</td>\n",
       "      <td>2.360919</td>\n",
       "      <td>2.0</td>\n",
       "      <td>3.0</td>\n",
       "      <td>4.0</td>\n",
       "      <td>3.0</td>\n",
       "      <td>4.0</td>\n",
       "    </tr>\n",
       "    <tr>\n",
       "      <th>1</th>\n",
       "      <td>2014-03-27</td>\n",
       "      <td>-0.231706</td>\n",
       "      <td>0.727092</td>\n",
       "      <td>2.165416</td>\n",
       "      <td>0.868502</td>\n",
       "      <td>2.419916</td>\n",
       "      <td>2.0</td>\n",
       "      <td>3.0</td>\n",
       "      <td>4.0</td>\n",
       "      <td>3.0</td>\n",
       "      <td>4.0</td>\n",
       "    </tr>\n",
       "    <tr>\n",
       "      <th>2</th>\n",
       "      <td>2014-03-28</td>\n",
       "      <td>-0.184200</td>\n",
       "      <td>0.973167</td>\n",
       "      <td>2.196066</td>\n",
       "      <td>0.966062</td>\n",
       "      <td>2.437897</td>\n",
       "      <td>2.0</td>\n",
       "      <td>3.0</td>\n",
       "      <td>4.0</td>\n",
       "      <td>3.0</td>\n",
       "      <td>4.0</td>\n",
       "    </tr>\n",
       "    <tr>\n",
       "      <th>3</th>\n",
       "      <td>2014-03-31</td>\n",
       "      <td>-0.160734</td>\n",
       "      <td>0.969800</td>\n",
       "      <td>2.265329</td>\n",
       "      <td>0.956306</td>\n",
       "      <td>2.436211</td>\n",
       "      <td>2.0</td>\n",
       "      <td>3.0</td>\n",
       "      <td>4.0</td>\n",
       "      <td>3.0</td>\n",
       "      <td>4.0</td>\n",
       "    </tr>\n",
       "    <tr>\n",
       "      <th>4</th>\n",
       "      <td>2014-04-01</td>\n",
       "      <td>-0.155583</td>\n",
       "      <td>0.978221</td>\n",
       "      <td>2.289801</td>\n",
       "      <td>1.044110</td>\n",
       "      <td>2.330577</td>\n",
       "      <td>2.0</td>\n",
       "      <td>3.0</td>\n",
       "      <td>4.0</td>\n",
       "      <td>3.0</td>\n",
       "      <td>4.0</td>\n",
       "    </tr>\n",
       "  </tbody>\n",
       "</table>\n",
       "</div>"
      ],
      "text/plain": [
       "        Date  Adj Close Chevron stock  Adj Close Exxonmobil stock  \\\n",
       "0 2014-03-26                -0.229418                    0.467524   \n",
       "1 2014-03-27                -0.231706                    0.727092   \n",
       "2 2014-03-28                -0.184200                    0.973167   \n",
       "3 2014-03-31                -0.160734                    0.969800   \n",
       "4 2014-04-01                -0.155583                    0.978221   \n",
       "\n",
       "   Price S&P Oil  Price treasury  Price WTI crude oil  \\\n",
       "0       2.155907        0.895331             2.360919   \n",
       "1       2.165416        0.868502             2.419916   \n",
       "2       2.196066        0.966062             2.437897   \n",
       "3       2.265329        0.956306             2.436211   \n",
       "4       2.289801        1.044110             2.330577   \n",
       "\n",
       "   Adj Close Chevron stock_discretized  \\\n",
       "0                                  2.0   \n",
       "1                                  2.0   \n",
       "2                                  2.0   \n",
       "3                                  2.0   \n",
       "4                                  2.0   \n",
       "\n",
       "   Adj Close Exxonmobil stock_discretized  Price S&P Oil_discretized  \\\n",
       "0                                     3.0                        4.0   \n",
       "1                                     3.0                        4.0   \n",
       "2                                     3.0                        4.0   \n",
       "3                                     3.0                        4.0   \n",
       "4                                     3.0                        4.0   \n",
       "\n",
       "   Price treasury_discretized  Price WTI crude oil_discretized  \n",
       "0                         3.0                              4.0  \n",
       "1                         3.0                              4.0  \n",
       "2                         3.0                              4.0  \n",
       "3                         3.0                              4.0  \n",
       "4                         3.0                              4.0  "
      ]
     },
     "execution_count": 62,
     "metadata": {},
     "output_type": "execute_result"
    }
   ],
   "source": [
    "## At this point, 'df' has the original columns followed by the discretized colums\n",
    "df_discretized.head()"
   ]
  },
  {
   "cell_type": "code",
   "execution_count": 64,
   "metadata": {
    "colab": {
     "base_uri": "https://localhost:8080/",
     "height": 310
    },
    "id": "AD-UVa8OQC1Q",
    "outputId": "4ea784b6-46d5-49bf-e229-6794fbc1f5b6"
   },
   "outputs": [
    {
     "data": {
      "text/html": [
       "<div>\n",
       "<style scoped>\n",
       "    .dataframe tbody tr th:only-of-type {\n",
       "        vertical-align: middle;\n",
       "    }\n",
       "\n",
       "    .dataframe tbody tr th {\n",
       "        vertical-align: top;\n",
       "    }\n",
       "\n",
       "    .dataframe thead th {\n",
       "        text-align: right;\n",
       "    }\n",
       "</style>\n",
       "<table border=\"1\" class=\"dataframe\">\n",
       "  <thead>\n",
       "    <tr style=\"text-align: right;\">\n",
       "      <th></th>\n",
       "      <th>Date</th>\n",
       "      <th>Adj Close Chevron stock_discretized</th>\n",
       "      <th>Adj Close Exxonmobil stock_discretized</th>\n",
       "      <th>Price S&amp;P Oil_discretized</th>\n",
       "      <th>Price treasury_discretized</th>\n",
       "      <th>Price WTI crude oil_discretized</th>\n",
       "    </tr>\n",
       "  </thead>\n",
       "  <tbody>\n",
       "    <tr>\n",
       "      <th>0</th>\n",
       "      <td>2014-03-26</td>\n",
       "      <td>2.0</td>\n",
       "      <td>3.0</td>\n",
       "      <td>4.0</td>\n",
       "      <td>3.0</td>\n",
       "      <td>4.0</td>\n",
       "    </tr>\n",
       "    <tr>\n",
       "      <th>1</th>\n",
       "      <td>2014-03-27</td>\n",
       "      <td>2.0</td>\n",
       "      <td>3.0</td>\n",
       "      <td>4.0</td>\n",
       "      <td>3.0</td>\n",
       "      <td>4.0</td>\n",
       "    </tr>\n",
       "    <tr>\n",
       "      <th>2</th>\n",
       "      <td>2014-03-28</td>\n",
       "      <td>2.0</td>\n",
       "      <td>3.0</td>\n",
       "      <td>4.0</td>\n",
       "      <td>3.0</td>\n",
       "      <td>4.0</td>\n",
       "    </tr>\n",
       "    <tr>\n",
       "      <th>3</th>\n",
       "      <td>2014-03-31</td>\n",
       "      <td>2.0</td>\n",
       "      <td>3.0</td>\n",
       "      <td>4.0</td>\n",
       "      <td>3.0</td>\n",
       "      <td>4.0</td>\n",
       "    </tr>\n",
       "    <tr>\n",
       "      <th>4</th>\n",
       "      <td>2014-04-01</td>\n",
       "      <td>2.0</td>\n",
       "      <td>3.0</td>\n",
       "      <td>4.0</td>\n",
       "      <td>3.0</td>\n",
       "      <td>4.0</td>\n",
       "    </tr>\n",
       "  </tbody>\n",
       "</table>\n",
       "</div>"
      ],
      "text/plain": [
       "        Date  Adj Close Chevron stock_discretized  \\\n",
       "0 2014-03-26                                  2.0   \n",
       "1 2014-03-27                                  2.0   \n",
       "2 2014-03-28                                  2.0   \n",
       "3 2014-03-31                                  2.0   \n",
       "4 2014-04-01                                  2.0   \n",
       "\n",
       "   Adj Close Exxonmobil stock_discretized  Price S&P Oil_discretized  \\\n",
       "0                                     3.0                        4.0   \n",
       "1                                     3.0                        4.0   \n",
       "2                                     3.0                        4.0   \n",
       "3                                     3.0                        4.0   \n",
       "4                                     3.0                        4.0   \n",
       "\n",
       "   Price treasury_discretized  Price WTI crude oil_discretized  \n",
       "0                         3.0                              4.0  \n",
       "1                         3.0                              4.0  \n",
       "2                         3.0                              4.0  \n",
       "3                         3.0                              4.0  \n",
       "4                         3.0                              4.0  "
      ]
     },
     "execution_count": 64,
     "metadata": {},
     "output_type": "execute_result"
    }
   ],
   "source": [
    "## Drop the original columns and retain only the discretized columns\n",
    "for feature in features_to_discretize:\n",
    "    df_discretized.drop(f\"{feature}\", axis=1, inplace=True)\n",
    "\n",
    "df_discretized.head()"
   ]
  },
  {
   "cell_type": "markdown",
   "metadata": {
    "id": "lOWpT9e8eNKa"
   },
   "source": [
    "## Getting a DAG b/w the features vertices using 'pgmpy'"
   ]
  },
  {
   "cell_type": "code",
   "execution_count": 63,
   "metadata": {
    "colab": {
     "base_uri": "https://localhost:8080/"
    },
    "id": "zdyGd_eRWLlU",
    "outputId": "33ef0bef-62c4-40d8-c394-b6fbb2769c8c"
   },
   "outputs": [
    {
     "name": "stdout",
     "output_type": "stream",
     "text": [
      "Requirement already satisfied: pgmpy in c:\\users\\sapta\\anaconda3\\lib\\site-packages (1.0.0)\n",
      "Requirement already satisfied: networkx in c:\\users\\sapta\\anaconda3\\lib\\site-packages (from pgmpy) (3.3)\n",
      "Requirement already satisfied: numpy in c:\\users\\sapta\\anaconda3\\lib\\site-packages (from pgmpy) (1.26.4)\n",
      "Requirement already satisfied: scipy in c:\\users\\sapta\\anaconda3\\lib\\site-packages (from pgmpy) (1.13.1)\n",
      "Requirement already satisfied: scikit-learn in c:\\users\\sapta\\anaconda3\\lib\\site-packages (from pgmpy) (1.5.1)\n",
      "Requirement already satisfied: pandas in c:\\users\\sapta\\anaconda3\\lib\\site-packages (from pgmpy) (2.2.2)\n",
      "Requirement already satisfied: torch in c:\\users\\sapta\\anaconda3\\lib\\site-packages (from pgmpy) (2.7.0)\n",
      "Requirement already satisfied: statsmodels in c:\\users\\sapta\\anaconda3\\lib\\site-packages (from pgmpy) (0.14.2)\n",
      "Requirement already satisfied: tqdm in c:\\users\\sapta\\anaconda3\\lib\\site-packages (from pgmpy) (4.66.5)\n",
      "Requirement already satisfied: joblib in c:\\users\\sapta\\anaconda3\\lib\\site-packages (from pgmpy) (1.4.2)\n",
      "Requirement already satisfied: opt-einsum in c:\\users\\sapta\\anaconda3\\lib\\site-packages (from pgmpy) (3.4.0)\n",
      "Requirement already satisfied: pyro-ppl in c:\\users\\sapta\\anaconda3\\lib\\site-packages (from pgmpy) (1.9.1)\n",
      "Requirement already satisfied: python-dateutil>=2.8.2 in c:\\users\\sapta\\anaconda3\\lib\\site-packages (from pandas->pgmpy) (2.9.0.post0)\n",
      "Requirement already satisfied: pytz>=2020.1 in c:\\users\\sapta\\anaconda3\\lib\\site-packages (from pandas->pgmpy) (2024.1)\n",
      "Requirement already satisfied: tzdata>=2022.7 in c:\\users\\sapta\\anaconda3\\lib\\site-packages (from pandas->pgmpy) (2023.3)\n",
      "Requirement already satisfied: pyro-api>=0.1.1 in c:\\users\\sapta\\anaconda3\\lib\\site-packages (from pyro-ppl->pgmpy) (0.1.2)\n",
      "Requirement already satisfied: filelock in c:\\users\\sapta\\anaconda3\\lib\\site-packages (from torch->pgmpy) (3.13.1)\n",
      "Requirement already satisfied: typing-extensions>=4.10.0 in c:\\users\\sapta\\anaconda3\\lib\\site-packages (from torch->pgmpy) (4.11.0)\n",
      "Requirement already satisfied: sympy>=1.13.3 in c:\\users\\sapta\\anaconda3\\lib\\site-packages (from torch->pgmpy) (1.13.3)\n",
      "Requirement already satisfied: jinja2 in c:\\users\\sapta\\anaconda3\\lib\\site-packages (from torch->pgmpy) (3.1.4)\n",
      "Requirement already satisfied: fsspec in c:\\users\\sapta\\anaconda3\\lib\\site-packages (from torch->pgmpy) (2024.6.1)\n",
      "Requirement already satisfied: setuptools in c:\\users\\sapta\\anaconda3\\lib\\site-packages (from torch->pgmpy) (75.1.0)\n",
      "Requirement already satisfied: colorama in c:\\users\\sapta\\anaconda3\\lib\\site-packages (from tqdm->pgmpy) (0.4.6)\n",
      "Requirement already satisfied: threadpoolctl>=3.1.0 in c:\\users\\sapta\\anaconda3\\lib\\site-packages (from scikit-learn->pgmpy) (3.5.0)\n",
      "Requirement already satisfied: patsy>=0.5.6 in c:\\users\\sapta\\anaconda3\\lib\\site-packages (from statsmodels->pgmpy) (0.5.6)\n",
      "Requirement already satisfied: packaging>=21.3 in c:\\users\\sapta\\anaconda3\\lib\\site-packages (from statsmodels->pgmpy) (24.1)\n",
      "Requirement already satisfied: six in c:\\users\\sapta\\anaconda3\\lib\\site-packages (from patsy>=0.5.6->statsmodels->pgmpy) (1.16.0)\n",
      "Requirement already satisfied: mpmath<1.4,>=1.1.0 in c:\\users\\sapta\\anaconda3\\lib\\site-packages (from sympy>=1.13.3->torch->pgmpy) (1.3.0)\n",
      "Requirement already satisfied: MarkupSafe>=2.0 in c:\\users\\sapta\\anaconda3\\lib\\site-packages (from jinja2->torch->pgmpy) (2.1.3)\n",
      "Note: you may need to restart the kernel to use updated packages.\n"
     ]
    }
   ],
   "source": [
    "pip install pgmpy\n"
   ]
  },
  {
   "cell_type": "code",
   "execution_count": 67,
   "metadata": {
    "colab": {
     "base_uri": "https://localhost:8080/",
     "height": 240,
     "referenced_widgets": [
      "661c77fcd54c44d0b4f3c0de21ecf339",
      "369bd44d282148f898dc9dff40fcac36",
      "4ccac16c13224285815e28d0debdbfdf",
      "43fb1c6bcb314420b9bf1c50f5d725e5",
      "0b5f5803b53e40f5942e919a8f80527e",
      "953698935b074218be158053fafc429e",
      "db067f63ec5c468f8fa4f2a5aa4067dd",
      "c8cf57187adf40d18f3ebf57c0f10f64",
      "5dc1bb85f2d54e4ba63e1b7e2335988a",
      "a16a992a888544f292bc6afb32220b9b",
      "aeeebffd8eee4d1c802a3e5bb9a559d4"
     ]
    },
    "id": "dHEIqkyreUbU",
    "outputId": "384cee76-949e-4b0e-b1d4-6df81c52926d"
   },
   "outputs": [
    {
     "name": "stderr",
     "output_type": "stream",
     "text": [
      "INFO:pgmpy: Datatype (N=numerical, C=Categorical Unordered, O=Categorical Ordered) inferred from data: \n",
      " {'Adj Close Chevron stock_discretized': 'N', 'Adj Close Exxonmobil stock_discretized': 'N', 'Price S&P Oil_discretized': 'N', 'Price treasury_discretized': 'N', 'Price WTI crude oil_discretized': 'N'}\n",
      "INFO:pgmpy: Datatype (N=numerical, C=Categorical Unordered, O=Categorical Ordered) inferred from data: \n",
      " {'Adj Close Chevron stock_discretized': 'N', 'Adj Close Exxonmobil stock_discretized': 'N', 'Price S&P Oil_discretized': 'N', 'Price treasury_discretized': 'N', 'Price WTI crude oil_discretized': 'N'}\n",
      "INFO:pgmpy: Datatype (N=numerical, C=Categorical Unordered, O=Categorical Ordered) inferred from data: \n",
      " {'Adj Close Chevron stock_discretized': 'N', 'Adj Close Exxonmobil stock_discretized': 'N', 'Price S&P Oil_discretized': 'N', 'Price treasury_discretized': 'N', 'Price WTI crude oil_discretized': 'N'}\n"
     ]
    },
    {
     "data": {
      "application/vnd.jupyter.widget-view+json": {
       "model_id": "dcffc8070e0d4fed81fb9a68b392ce9d",
       "version_major": 2,
       "version_minor": 0
      },
      "text/plain": [
       "  0%|          | 0/1000000 [00:00<?, ?it/s]"
      ]
     },
     "metadata": {},
     "output_type": "display_data"
    },
    {
     "name": "stdout",
     "output_type": "stream",
     "text": [
      "Adj Close Chevron stock_discretized -> Adj Close Exxonmobil stock_discretized\n",
      "Price S&P Oil_discretized -> Price WTI crude oil_discretized\n",
      "Price treasury_discretized -> Adj Close Chevron stock_discretized\n",
      "Price WTI crude oil_discretized -> Price treasury_discretized\n",
      "Price WTI crude oil_discretized -> Adj Close Chevron stock_discretized\n"
     ]
    }
   ],
   "source": [
    "# from pgmpy.models import BayesianModel\n",
    "from pgmpy.models import DiscreteBayesianNetwork\n",
    "from pgmpy.estimators import HillClimbSearch\n",
    "import pandas as pd\n",
    "\n",
    "\n",
    "df_discretized = df_discretized.drop(columns=['Date'])\n",
    "\n",
    "target_variable = 'Adj Close Chevron stock_discretized'\n",
    "\n",
    "# model = BayesianModel()\n",
    "model = DiscreteBayesianNetwork()\n",
    "\n",
    "for feature in df_discretized.columns:\n",
    "    if feature != target_variable:\n",
    "        model.add_edge(feature, target_variable)\n",
    "\n",
    "## Find a structure with the 'maximum' BIC score using\n",
    "## hill climb search. The 'maximum' may not be a global\n",
    "## maximum, it might be a local maximum. Hence, it is \n",
    "## an approximate search.\n",
    "data = df_discretized.copy()\n",
    "hc = HillClimbSearch(data)\n",
    "best_model = hc.estimate()\n",
    "\n",
    "edges = best_model.edges()\n",
    "\n",
    "for edge in edges:\n",
    "    print(f\"{edge[0]} -> {edge[1]}\")    "
   ]
  },
  {
   "cell_type": "markdown",
   "metadata": {
    "id": "z2-gMovotzih"
   },
   "source": [
    "# Older: As we can see that `WTI crude oil_discretized` and  `S&P Oil_discretized` affect our target directly therfore we will consider both as the parents of Chevron Stock\n",
    "# As we can see that `Price treasury_discretized` and  `Price WTI crude oil_discretized` affect our target directly therfore we will consider both as the parents of Chevron Stock"
   ]
  },
  {
   "cell_type": "markdown",
   "metadata": {
    "id": "dg343bMTvQ8_"
   },
   "source": [
    "Selecting only the necessary features from our datasets"
   ]
  },
  {
   "cell_type": "code",
   "execution_count": 71,
   "metadata": {
    "colab": {
     "base_uri": "https://localhost:8080/",
     "height": 455
    },
    "id": "wihv1BiWfSOP",
    "outputId": "5f6703f3-c6af-4d87-e795-3ed3ec097b0c"
   },
   "outputs": [
    {
     "data": {
      "text/html": [
       "<div>\n",
       "<style scoped>\n",
       "    .dataframe tbody tr th:only-of-type {\n",
       "        vertical-align: middle;\n",
       "    }\n",
       "\n",
       "    .dataframe tbody tr th {\n",
       "        vertical-align: top;\n",
       "    }\n",
       "\n",
       "    .dataframe thead th {\n",
       "        text-align: right;\n",
       "    }\n",
       "</style>\n",
       "<table border=\"1\" class=\"dataframe\">\n",
       "  <thead>\n",
       "    <tr style=\"text-align: right;\">\n",
       "      <th></th>\n",
       "      <th>Price treasury</th>\n",
       "      <th>Price WTI crude oil</th>\n",
       "      <th>Adj Close Chevron stock</th>\n",
       "    </tr>\n",
       "    <tr>\n",
       "      <th>Date</th>\n",
       "      <th></th>\n",
       "      <th></th>\n",
       "      <th></th>\n",
       "    </tr>\n",
       "  </thead>\n",
       "  <tbody>\n",
       "    <tr>\n",
       "      <th>2014-03-26</th>\n",
       "      <td>0.895331</td>\n",
       "      <td>2.360919</td>\n",
       "      <td>-0.229418</td>\n",
       "    </tr>\n",
       "    <tr>\n",
       "      <th>2014-03-27</th>\n",
       "      <td>0.868502</td>\n",
       "      <td>2.419916</td>\n",
       "      <td>-0.231706</td>\n",
       "    </tr>\n",
       "    <tr>\n",
       "      <th>2014-03-28</th>\n",
       "      <td>0.966062</td>\n",
       "      <td>2.437897</td>\n",
       "      <td>-0.184200</td>\n",
       "    </tr>\n",
       "    <tr>\n",
       "      <th>2014-03-31</th>\n",
       "      <td>0.956306</td>\n",
       "      <td>2.436211</td>\n",
       "      <td>-0.160734</td>\n",
       "    </tr>\n",
       "    <tr>\n",
       "      <th>2014-04-01</th>\n",
       "      <td>1.044110</td>\n",
       "      <td>2.330577</td>\n",
       "      <td>-0.155583</td>\n",
       "    </tr>\n",
       "    <tr>\n",
       "      <th>...</th>\n",
       "      <td>...</td>\n",
       "      <td>...</td>\n",
       "      <td>...</td>\n",
       "    </tr>\n",
       "    <tr>\n",
       "      <th>2019-03-18</th>\n",
       "      <td>0.746552</td>\n",
       "      <td>-0.120353</td>\n",
       "      <td>1.841559</td>\n",
       "    </tr>\n",
       "    <tr>\n",
       "      <th>2019-03-19</th>\n",
       "      <td>0.548992</td>\n",
       "      <td>-0.075403</td>\n",
       "      <td>1.799576</td>\n",
       "    </tr>\n",
       "    <tr>\n",
       "      <th>2019-03-20</th>\n",
       "      <td>0.831917</td>\n",
       "      <td>0.002699</td>\n",
       "      <td>1.758293</td>\n",
       "    </tr>\n",
       "    <tr>\n",
       "      <th>2019-03-21</th>\n",
       "      <td>0.905087</td>\n",
       "      <td>0.022365</td>\n",
       "      <td>1.840161</td>\n",
       "    </tr>\n",
       "    <tr>\n",
       "      <th>2019-03-22</th>\n",
       "      <td>0.983135</td>\n",
       "      <td>0.017308</td>\n",
       "      <td>1.646334</td>\n",
       "    </tr>\n",
       "  </tbody>\n",
       "</table>\n",
       "<p>1257 rows × 3 columns</p>\n",
       "</div>"
      ],
      "text/plain": [
       "            Price treasury  Price WTI crude oil  Adj Close Chevron stock\n",
       "Date                                                                    \n",
       "2014-03-26        0.895331             2.360919                -0.229418\n",
       "2014-03-27        0.868502             2.419916                -0.231706\n",
       "2014-03-28        0.966062             2.437897                -0.184200\n",
       "2014-03-31        0.956306             2.436211                -0.160734\n",
       "2014-04-01        1.044110             2.330577                -0.155583\n",
       "...                    ...                  ...                      ...\n",
       "2019-03-18        0.746552            -0.120353                 1.841559\n",
       "2019-03-19        0.548992            -0.075403                 1.799576\n",
       "2019-03-20        0.831917             0.002699                 1.758293\n",
       "2019-03-21        0.905087             0.022365                 1.840161\n",
       "2019-03-22        0.983135             0.017308                 1.646334\n",
       "\n",
       "[1257 rows x 3 columns]"
      ]
     },
     "execution_count": 71,
     "metadata": {},
     "output_type": "execute_result"
    }
   ],
   "source": [
    "# selected_columns = [\"Date\",\"Price S&P Oil\", \"Price WTI crude oil\", \"Adj Close Chevron stock\"]\n",
    "selected_columns = [\"Date\",\"Price treasury\", \"Price WTI crude oil\", \"Adj Close Chevron stock\"]\n",
    "df_selected = df.loc[:, selected_columns]\n",
    "df_selected.index = df_selected.pop(\"Date\")\n",
    "df_selected"
   ]
  },
  {
   "cell_type": "code",
   "execution_count": 73,
   "metadata": {
    "colab": {
     "base_uri": "https://localhost:8080/"
    },
    "id": "wPvVuCgIvaVH",
    "outputId": "2efcbaec-1e57-4ca6-e921-fbf55f600ba0"
   },
   "outputs": [
    {
     "name": "stdout",
     "output_type": "stream",
     "text": [
      "R^2 Score: 0.7472943810312044\n",
      "Mean Squared Error: 0.2601408812485171\n"
     ]
    }
   ],
   "source": [
    "from sklearn.ensemble import RandomForestRegressor\n",
    "from sklearn.model_selection import train_test_split\n",
    "from sklearn.metrics import mean_squared_error\n",
    "from sklearn.metrics import r2_score\n",
    "\n",
    "## Remove the column corr. to the target variable from the dataframe\n",
    "X = df_selected.drop(\"Adj Close Chevron stock\", axis=1)\n",
    "\n",
    "## The values of the target variable\n",
    "y = df_selected[\"Adj Close Chevron stock\"]\n",
    "\n",
    "## Split the dataframe into train and test sets.\n",
    "## The test set should contain 20% of the rows and the training set should contain the\n",
    "## remaining 80% of the rows. \n",
    "## The input parameter 'random_state' is used to make the result reproducible.\n",
    "## Ref1: https://scikit-learn.org/stable/modules/generated/sklearn.model_selection.train_test_split.html\n",
    "## Ref2: https://www.geeksforgeeks.org/how-to-split-the-dataset-with-scikit-learns-train_test_split-function/\n",
    "X_train, X_test, y_train, y_test = train_test_split(X, y, test_size=0.2, random_state=42)\n",
    "\n",
    "## Initialize a random forest regressor with 100 decision trees.\n",
    "## The input parameter 'random_state' is used to make the result reproducible.\n",
    "rf_regressor = RandomForestRegressor(n_estimators=100, random_state=42)\n",
    "\n",
    "## Fit the regressor to the train set i.e.\n",
    "## train the regressor\n",
    "rf_regressor.fit(X_train, y_train)\n",
    "\n",
    "## Use the trained regressor to perform prediction in the test set\n",
    "y_pred = rf_regressor.predict(X_test)\n",
    "\n",
    "## Compute r-squared\n",
    "## Ref1: https://en.wikipedia.org/wiki/Coefficient_of_determination\n",
    "## Ref2: https://www.investopedia.com/terms/r/r-squared.asp\n",
    "r2 = r2_score(y_test, y_pred)\n",
    "print(f\"R^2 Score: {r2}\")\n",
    "\n",
    "## Compute mean squared error\n",
    "mse = mean_squared_error(y_test, y_pred)\n",
    "print(f\"Mean Squared Error: {mse}\")"
   ]
  },
  {
   "cell_type": "markdown",
   "metadata": {
    "id": "V9J8JRL8Pf8w"
   },
   "source": [
    "# Auto Regression\n"
   ]
  },
  {
   "cell_type": "code",
   "execution_count": 79,
   "metadata": {},
   "outputs": [
    {
     "name": "stdout",
     "output_type": "stream",
     "text": [
      "Collecting keras\n",
      "  Downloading keras-3.9.2-py3-none-any.whl.metadata (6.1 kB)\n",
      "Collecting absl-py (from keras)\n",
      "  Downloading absl_py-2.2.2-py3-none-any.whl.metadata (2.6 kB)\n",
      "Requirement already satisfied: numpy in c:\\users\\sapta\\anaconda3\\lib\\site-packages (from keras) (1.26.4)\n",
      "Requirement already satisfied: rich in c:\\users\\sapta\\anaconda3\\lib\\site-packages (from keras) (13.7.1)\n",
      "Collecting namex (from keras)\n",
      "  Downloading namex-0.0.9-py3-none-any.whl.metadata (322 bytes)\n",
      "Requirement already satisfied: h5py in c:\\users\\sapta\\anaconda3\\lib\\site-packages (from keras) (3.11.0)\n",
      "Collecting optree (from keras)\n",
      "  Downloading optree-0.15.0-cp312-cp312-win_amd64.whl.metadata (49 kB)\n",
      "Collecting ml-dtypes (from keras)\n",
      "  Downloading ml_dtypes-0.5.1-cp312-cp312-win_amd64.whl.metadata (22 kB)\n",
      "Requirement already satisfied: packaging in c:\\users\\sapta\\anaconda3\\lib\\site-packages (from keras) (24.1)\n",
      "Requirement already satisfied: typing-extensions>=4.5.0 in c:\\users\\sapta\\anaconda3\\lib\\site-packages (from optree->keras) (4.11.0)\n",
      "Requirement already satisfied: markdown-it-py>=2.2.0 in c:\\users\\sapta\\anaconda3\\lib\\site-packages (from rich->keras) (2.2.0)\n",
      "Requirement already satisfied: pygments<3.0.0,>=2.13.0 in c:\\users\\sapta\\anaconda3\\lib\\site-packages (from rich->keras) (2.15.1)\n",
      "Requirement already satisfied: mdurl~=0.1 in c:\\users\\sapta\\anaconda3\\lib\\site-packages (from markdown-it-py>=2.2.0->rich->keras) (0.1.0)\n",
      "Downloading keras-3.9.2-py3-none-any.whl (1.3 MB)\n",
      "   ---------------------------------------- 0.0/1.3 MB ? eta -:--:--\n",
      "   ------------------------------- -------- 1.0/1.3 MB 8.4 MB/s eta 0:00:01\n",
      "   ---------------------------------------- 1.3/1.3 MB 5.8 MB/s eta 0:00:00\n",
      "Downloading absl_py-2.2.2-py3-none-any.whl (135 kB)\n",
      "Downloading ml_dtypes-0.5.1-cp312-cp312-win_amd64.whl (210 kB)\n",
      "Downloading namex-0.0.9-py3-none-any.whl (5.8 kB)\n",
      "Downloading optree-0.15.0-cp312-cp312-win_amd64.whl (307 kB)\n",
      "Installing collected packages: namex, optree, ml-dtypes, absl-py, keras\n",
      "Successfully installed absl-py-2.2.2 keras-3.9.2 ml-dtypes-0.5.1 namex-0.0.9 optree-0.15.0\n",
      "Note: you may need to restart the kernel to use updated packages.\n"
     ]
    }
   ],
   "source": [
    "pip install --upgrade keras"
   ]
  },
  {
   "cell_type": "markdown",
   "metadata": {
    "id": "4QQadXIGXDkm"
   },
   "source": [
    "# USING LSTM Model on our Chevron Dataset"
   ]
  },
  {
   "cell_type": "code",
   "execution_count": 5,
   "metadata": {},
   "outputs": [
    {
     "name": "stdout",
     "output_type": "stream",
     "text": [
      "Collecting tensorflow\n",
      "  Downloading tensorflow-2.19.0-cp312-cp312-win_amd64.whl.metadata (4.1 kB)\n",
      "Requirement already satisfied: absl-py>=1.0.0 in c:\\users\\sapta\\anaconda3\\lib\\site-packages (from tensorflow) (2.2.2)\n",
      "Collecting astunparse>=1.6.0 (from tensorflow)\n",
      "  Downloading astunparse-1.6.3-py2.py3-none-any.whl.metadata (4.4 kB)\n",
      "Collecting flatbuffers>=24.3.25 (from tensorflow)\n",
      "  Downloading flatbuffers-25.2.10-py2.py3-none-any.whl.metadata (875 bytes)\n",
      "Collecting gast!=0.5.0,!=0.5.1,!=0.5.2,>=0.2.1 (from tensorflow)\n",
      "  Downloading gast-0.6.0-py3-none-any.whl.metadata (1.3 kB)\n",
      "Collecting google-pasta>=0.1.1 (from tensorflow)\n",
      "  Downloading google_pasta-0.2.0-py3-none-any.whl.metadata (814 bytes)\n",
      "Collecting libclang>=13.0.0 (from tensorflow)\n",
      "  Downloading libclang-18.1.1-py2.py3-none-win_amd64.whl.metadata (5.3 kB)\n",
      "Requirement already satisfied: opt-einsum>=2.3.2 in c:\\users\\sapta\\anaconda3\\lib\\site-packages (from tensorflow) (3.4.0)\n",
      "Requirement already satisfied: packaging in c:\\users\\sapta\\anaconda3\\lib\\site-packages (from tensorflow) (24.1)\n",
      "Requirement already satisfied: protobuf!=4.21.0,!=4.21.1,!=4.21.2,!=4.21.3,!=4.21.4,!=4.21.5,<6.0.0dev,>=3.20.3 in c:\\users\\sapta\\anaconda3\\lib\\site-packages (from tensorflow) (4.25.3)\n",
      "Requirement already satisfied: requests<3,>=2.21.0 in c:\\users\\sapta\\anaconda3\\lib\\site-packages (from tensorflow) (2.32.3)\n",
      "Requirement already satisfied: setuptools in c:\\users\\sapta\\anaconda3\\lib\\site-packages (from tensorflow) (75.1.0)\n",
      "Requirement already satisfied: six>=1.12.0 in c:\\users\\sapta\\anaconda3\\lib\\site-packages (from tensorflow) (1.16.0)\n",
      "Collecting termcolor>=1.1.0 (from tensorflow)\n",
      "  Downloading termcolor-3.0.1-py3-none-any.whl.metadata (6.1 kB)\n",
      "Requirement already satisfied: typing-extensions>=3.6.6 in c:\\users\\sapta\\anaconda3\\lib\\site-packages (from tensorflow) (4.11.0)\n",
      "Requirement already satisfied: wrapt>=1.11.0 in c:\\users\\sapta\\anaconda3\\lib\\site-packages (from tensorflow) (1.14.1)\n",
      "Collecting grpcio<2.0,>=1.24.3 (from tensorflow)\n",
      "  Downloading grpcio-1.71.0-cp312-cp312-win_amd64.whl.metadata (4.0 kB)\n",
      "Collecting tensorboard~=2.19.0 (from tensorflow)\n",
      "  Downloading tensorboard-2.19.0-py3-none-any.whl.metadata (1.8 kB)\n",
      "Requirement already satisfied: keras>=3.5.0 in c:\\users\\sapta\\anaconda3\\lib\\site-packages (from tensorflow) (3.9.2)\n",
      "Requirement already satisfied: numpy<2.2.0,>=1.26.0 in c:\\users\\sapta\\anaconda3\\lib\\site-packages (from tensorflow) (1.26.4)\n",
      "Requirement already satisfied: h5py>=3.11.0 in c:\\users\\sapta\\anaconda3\\lib\\site-packages (from tensorflow) (3.11.0)\n",
      "Requirement already satisfied: ml-dtypes<1.0.0,>=0.5.1 in c:\\users\\sapta\\anaconda3\\lib\\site-packages (from tensorflow) (0.5.1)\n",
      "Requirement already satisfied: wheel<1.0,>=0.23.0 in c:\\users\\sapta\\anaconda3\\lib\\site-packages (from astunparse>=1.6.0->tensorflow) (0.44.0)\n",
      "Requirement already satisfied: rich in c:\\users\\sapta\\anaconda3\\lib\\site-packages (from keras>=3.5.0->tensorflow) (13.7.1)\n",
      "Requirement already satisfied: namex in c:\\users\\sapta\\anaconda3\\lib\\site-packages (from keras>=3.5.0->tensorflow) (0.0.9)\n",
      "Requirement already satisfied: optree in c:\\users\\sapta\\anaconda3\\lib\\site-packages (from keras>=3.5.0->tensorflow) (0.15.0)\n",
      "Requirement already satisfied: charset-normalizer<4,>=2 in c:\\users\\sapta\\anaconda3\\lib\\site-packages (from requests<3,>=2.21.0->tensorflow) (3.3.2)\n",
      "Requirement already satisfied: idna<4,>=2.5 in c:\\users\\sapta\\anaconda3\\lib\\site-packages (from requests<3,>=2.21.0->tensorflow) (3.7)\n",
      "Requirement already satisfied: urllib3<3,>=1.21.1 in c:\\users\\sapta\\anaconda3\\lib\\site-packages (from requests<3,>=2.21.0->tensorflow) (2.2.3)\n",
      "Requirement already satisfied: certifi>=2017.4.17 in c:\\users\\sapta\\anaconda3\\lib\\site-packages (from requests<3,>=2.21.0->tensorflow) (2025.1.31)\n",
      "Requirement already satisfied: markdown>=2.6.8 in c:\\users\\sapta\\anaconda3\\lib\\site-packages (from tensorboard~=2.19.0->tensorflow) (3.4.1)\n",
      "Collecting tensorboard-data-server<0.8.0,>=0.7.0 (from tensorboard~=2.19.0->tensorflow)\n",
      "  Downloading tensorboard_data_server-0.7.2-py3-none-any.whl.metadata (1.1 kB)\n",
      "Requirement already satisfied: werkzeug>=1.0.1 in c:\\users\\sapta\\anaconda3\\lib\\site-packages (from tensorboard~=2.19.0->tensorflow) (3.0.3)\n",
      "Requirement already satisfied: MarkupSafe>=2.1.1 in c:\\users\\sapta\\anaconda3\\lib\\site-packages (from werkzeug>=1.0.1->tensorboard~=2.19.0->tensorflow) (2.1.3)\n",
      "Requirement already satisfied: markdown-it-py>=2.2.0 in c:\\users\\sapta\\anaconda3\\lib\\site-packages (from rich->keras>=3.5.0->tensorflow) (2.2.0)\n",
      "Requirement already satisfied: pygments<3.0.0,>=2.13.0 in c:\\users\\sapta\\anaconda3\\lib\\site-packages (from rich->keras>=3.5.0->tensorflow) (2.15.1)\n",
      "Requirement already satisfied: mdurl~=0.1 in c:\\users\\sapta\\anaconda3\\lib\\site-packages (from markdown-it-py>=2.2.0->rich->keras>=3.5.0->tensorflow) (0.1.0)\n",
      "Downloading tensorflow-2.19.0-cp312-cp312-win_amd64.whl (376.0 MB)\n",
      "   ---------------------------------------- 0.0/376.0 MB ? eta -:--:--\n",
      "   ---------------------------------------- 0.3/376.0 MB ? eta -:--:--\n",
      "   ---------------------------------------- 2.1/376.0 MB 6.5 MB/s eta 0:00:58\n",
      "   ---------------------------------------- 4.5/376.0 MB 8.4 MB/s eta 0:00:45\n",
      "    --------------------------------------- 6.8/376.0 MB 9.3 MB/s eta 0:00:40\n",
      "    --------------------------------------- 9.2/376.0 MB 9.8 MB/s eta 0:00:38\n",
      "   - -------------------------------------- 12.1/376.0 MB 10.2 MB/s eta 0:00:36\n",
      "   - -------------------------------------- 14.4/376.0 MB 10.3 MB/s eta 0:00:36\n",
      "   - -------------------------------------- 16.8/376.0 MB 10.5 MB/s eta 0:00:35\n",
      "   -- ------------------------------------- 19.1/376.0 MB 10.6 MB/s eta 0:00:34\n",
      "   -- ------------------------------------- 21.8/376.0 MB 10.7 MB/s eta 0:00:34\n",
      "   -- ------------------------------------- 23.6/376.0 MB 10.5 MB/s eta 0:00:34\n",
      "   -- ------------------------------------- 26.2/376.0 MB 10.9 MB/s eta 0:00:33\n",
      "   --- ------------------------------------ 28.6/376.0 MB 10.9 MB/s eta 0:00:33\n",
      "   --- ------------------------------------ 30.4/376.0 MB 10.6 MB/s eta 0:00:33\n",
      "   --- ------------------------------------ 33.6/376.0 MB 10.9 MB/s eta 0:00:32\n",
      "   --- ------------------------------------ 35.9/376.0 MB 10.9 MB/s eta 0:00:32\n",
      "   ---- ----------------------------------- 38.3/376.0 MB 10.9 MB/s eta 0:00:32\n",
      "   ---- ----------------------------------- 40.6/376.0 MB 10.9 MB/s eta 0:00:31\n",
      "   ---- ----------------------------------- 42.7/376.0 MB 10.9 MB/s eta 0:00:31\n",
      "   ---- ----------------------------------- 45.4/376.0 MB 10.9 MB/s eta 0:00:31\n",
      "   ----- ---------------------------------- 47.4/376.0 MB 10.9 MB/s eta 0:00:31\n",
      "   ----- ---------------------------------- 49.8/376.0 MB 10.8 MB/s eta 0:00:31\n",
      "   ----- ---------------------------------- 52.2/376.0 MB 10.9 MB/s eta 0:00:30\n",
      "   ----- ---------------------------------- 54.5/376.0 MB 10.9 MB/s eta 0:00:30\n",
      "   ------ --------------------------------- 56.9/376.0 MB 10.9 MB/s eta 0:00:30\n",
      "   ------ --------------------------------- 59.2/376.0 MB 10.9 MB/s eta 0:00:30\n",
      "   ------ --------------------------------- 61.6/376.0 MB 10.9 MB/s eta 0:00:29\n",
      "   ------ --------------------------------- 63.7/376.0 MB 10.9 MB/s eta 0:00:29\n",
      "   ------- -------------------------------- 66.1/376.0 MB 10.9 MB/s eta 0:00:29\n",
      "   ------- -------------------------------- 68.7/376.0 MB 10.9 MB/s eta 0:00:29\n",
      "   ------- -------------------------------- 71.3/376.0 MB 10.9 MB/s eta 0:00:28\n",
      "   ------- -------------------------------- 73.9/376.0 MB 11.0 MB/s eta 0:00:28\n",
      "   -------- ------------------------------- 75.8/376.0 MB 10.9 MB/s eta 0:00:28\n",
      "   -------- ------------------------------- 78.4/376.0 MB 10.9 MB/s eta 0:00:28\n",
      "   -------- ------------------------------- 81.0/376.0 MB 11.0 MB/s eta 0:00:27\n",
      "   -------- ------------------------------- 83.1/376.0 MB 10.9 MB/s eta 0:00:27\n",
      "   --------- ------------------------------ 85.5/376.0 MB 11.0 MB/s eta 0:00:27\n",
      "   --------- ------------------------------ 87.6/376.0 MB 11.0 MB/s eta 0:00:27\n",
      "   --------- ------------------------------ 91.0/376.0 MB 11.0 MB/s eta 0:00:26\n",
      "   --------- ------------------------------ 92.8/376.0 MB 11.0 MB/s eta 0:00:26\n",
      "   --------- ------------------------------ 93.6/376.0 MB 11.0 MB/s eta 0:00:26\n",
      "   ---------- ----------------------------- 97.3/376.0 MB 10.9 MB/s eta 0:00:26\n",
      "   ---------- ----------------------------- 99.6/376.0 MB 10.9 MB/s eta 0:00:26\n",
      "   ---------- ---------------------------- 101.7/376.0 MB 10.9 MB/s eta 0:00:26\n",
      "   ---------- ---------------------------- 103.5/376.0 MB 10.9 MB/s eta 0:00:26\n",
      "   ---------- ---------------------------- 105.6/376.0 MB 10.8 MB/s eta 0:00:25\n",
      "   ----------- --------------------------- 107.7/376.0 MB 10.8 MB/s eta 0:00:25\n",
      "   ----------- --------------------------- 109.6/376.0 MB 10.8 MB/s eta 0:00:25\n",
      "   ----------- --------------------------- 111.7/376.0 MB 10.8 MB/s eta 0:00:25\n",
      "   ----------- --------------------------- 113.5/376.0 MB 10.7 MB/s eta 0:00:25\n",
      "   ----------- --------------------------- 115.6/376.0 MB 10.7 MB/s eta 0:00:25\n",
      "   ------------ -------------------------- 118.0/376.0 MB 10.7 MB/s eta 0:00:25\n",
      "   ------------ -------------------------- 119.8/376.0 MB 10.7 MB/s eta 0:00:25\n",
      "   ------------ -------------------------- 122.4/376.0 MB 10.7 MB/s eta 0:00:24\n",
      "   ------------ -------------------------- 123.7/376.0 MB 10.6 MB/s eta 0:00:24\n",
      "   ------------- ------------------------- 126.1/376.0 MB 10.6 MB/s eta 0:00:24\n",
      "   ------------- ------------------------- 127.9/376.0 MB 10.6 MB/s eta 0:00:24\n",
      "   ------------- ------------------------- 130.5/376.0 MB 10.6 MB/s eta 0:00:24\n",
      "   ------------- ------------------------- 131.6/376.0 MB 10.6 MB/s eta 0:00:24\n",
      "   ------------- ------------------------- 132.9/376.0 MB 10.4 MB/s eta 0:00:24\n",
      "   -------------- ------------------------ 135.5/376.0 MB 10.5 MB/s eta 0:00:23\n",
      "   -------------- ------------------------ 137.4/376.0 MB 10.4 MB/s eta 0:00:23\n",
      "   -------------- ------------------------ 139.5/376.0 MB 10.4 MB/s eta 0:00:23\n",
      "   -------------- ------------------------ 141.3/376.0 MB 10.4 MB/s eta 0:00:23\n",
      "   -------------- ------------------------ 142.6/376.0 MB 10.3 MB/s eta 0:00:23\n",
      "   --------------- ----------------------- 145.0/376.0 MB 10.3 MB/s eta 0:00:23\n",
      "   --------------- ----------------------- 146.5/376.0 MB 10.3 MB/s eta 0:00:23\n",
      "   --------------- ----------------------- 148.4/376.0 MB 10.2 MB/s eta 0:00:23\n",
      "   --------------- ----------------------- 150.2/376.0 MB 10.2 MB/s eta 0:00:23\n",
      "   --------------- ----------------------- 153.1/376.0 MB 10.2 MB/s eta 0:00:22\n",
      "   ---------------- ---------------------- 155.5/376.0 MB 10.2 MB/s eta 0:00:22\n",
      "   ---------------- ---------------------- 157.0/376.0 MB 10.2 MB/s eta 0:00:22\n",
      "   ---------------- ---------------------- 159.9/376.0 MB 10.2 MB/s eta 0:00:22\n",
      "   ---------------- ---------------------- 161.7/376.0 MB 10.2 MB/s eta 0:00:21\n",
      "   ---------------- ---------------------- 163.8/376.0 MB 10.2 MB/s eta 0:00:21\n",
      "   ----------------- --------------------- 166.2/376.0 MB 10.2 MB/s eta 0:00:21\n",
      "   ----------------- --------------------- 169.6/376.0 MB 10.3 MB/s eta 0:00:21\n",
      "   ----------------- --------------------- 170.9/376.0 MB 10.2 MB/s eta 0:00:21\n",
      "   ----------------- --------------------- 172.8/376.0 MB 10.2 MB/s eta 0:00:20\n",
      "   ------------------ -------------------- 175.6/376.0 MB 10.2 MB/s eta 0:00:20\n",
      "   ------------------ -------------------- 178.0/376.0 MB 10.3 MB/s eta 0:00:20\n",
      "   ------------------ -------------------- 179.8/376.0 MB 10.2 MB/s eta 0:00:20\n",
      "   ------------------ -------------------- 181.9/376.0 MB 10.2 MB/s eta 0:00:19\n",
      "   ------------------- ------------------- 185.1/376.0 MB 10.2 MB/s eta 0:00:19\n",
      "   ------------------- ------------------- 186.1/376.0 MB 10.2 MB/s eta 0:00:19\n",
      "   ------------------- ------------------- 189.8/376.0 MB 10.3 MB/s eta 0:00:19\n",
      "   ------------------- ------------------- 191.1/376.0 MB 10.2 MB/s eta 0:00:19\n",
      "   -------------------- ------------------ 194.0/376.0 MB 10.3 MB/s eta 0:00:18\n",
      "   -------------------- ------------------ 195.6/376.0 MB 10.2 MB/s eta 0:00:18\n",
      "   -------------------- ------------------ 197.7/376.0 MB 10.3 MB/s eta 0:00:18\n",
      "   -------------------- ------------------ 200.8/376.0 MB 10.3 MB/s eta 0:00:18\n",
      "   --------------------- ----------------- 203.2/376.0 MB 10.3 MB/s eta 0:00:17\n",
      "   --------------------- ----------------- 204.7/376.0 MB 10.2 MB/s eta 0:00:17\n",
      "   --------------------- ----------------- 207.6/376.0 MB 10.3 MB/s eta 0:00:17\n",
      "   --------------------- ----------------- 208.1/376.0 MB 10.3 MB/s eta 0:00:17\n",
      "   --------------------- ----------------- 208.4/376.0 MB 10.2 MB/s eta 0:00:17\n",
      "   --------------------- ----------------- 210.2/376.0 MB 10.1 MB/s eta 0:00:17\n",
      "   ---------------------- ---------------- 212.9/376.0 MB 10.1 MB/s eta 0:00:17\n",
      "   ---------------------- ---------------- 213.9/376.0 MB 10.1 MB/s eta 0:00:17\n",
      "   ---------------------- ---------------- 217.8/376.0 MB 10.1 MB/s eta 0:00:16\n",
      "   ---------------------- ---------------- 219.7/376.0 MB 10.1 MB/s eta 0:00:16\n",
      "   ----------------------- --------------- 221.8/376.0 MB 10.1 MB/s eta 0:00:16\n",
      "   ----------------------- --------------- 224.1/376.0 MB 10.1 MB/s eta 0:00:15\n",
      "   ----------------------- --------------- 226.8/376.0 MB 10.1 MB/s eta 0:00:15\n",
      "   ----------------------- --------------- 228.9/376.0 MB 10.1 MB/s eta 0:00:15\n",
      "   ----------------------- --------------- 230.9/376.0 MB 10.1 MB/s eta 0:00:15\n",
      "   ------------------------ -------------- 233.0/376.0 MB 10.1 MB/s eta 0:00:15\n",
      "   ------------------------ -------------- 235.1/376.0 MB 10.2 MB/s eta 0:00:14\n",
      "   ------------------------ -------------- 238.0/376.0 MB 10.2 MB/s eta 0:00:14\n",
      "   ------------------------ -------------- 239.9/376.0 MB 10.1 MB/s eta 0:00:14\n",
      "   ------------------------- ------------- 242.0/376.0 MB 10.1 MB/s eta 0:00:14\n",
      "   ------------------------- ------------- 243.8/376.0 MB 10.1 MB/s eta 0:00:14\n",
      "   ------------------------- ------------- 246.7/376.0 MB 10.1 MB/s eta 0:00:13\n",
      "   ------------------------- ------------- 248.8/376.0 MB 10.1 MB/s eta 0:00:13\n",
      "   -------------------------- ------------ 251.7/376.0 MB 10.2 MB/s eta 0:00:13\n",
      "   -------------------------- ------------ 253.8/376.0 MB 10.2 MB/s eta 0:00:13\n",
      "   -------------------------- ------------ 256.4/376.0 MB 10.2 MB/s eta 0:00:12\n",
      "   -------------------------- ------------ 258.5/376.0 MB 10.2 MB/s eta 0:00:12\n",
      "   --------------------------- ----------- 261.1/376.0 MB 10.2 MB/s eta 0:00:12\n",
      "   --------------------------- ----------- 264.0/376.0 MB 10.2 MB/s eta 0:00:11\n",
      "   --------------------------- ----------- 265.8/376.0 MB 10.2 MB/s eta 0:00:11\n",
      "   --------------------------- ----------- 268.2/376.0 MB 10.2 MB/s eta 0:00:11\n",
      "   ---------------------------- ---------- 270.5/376.0 MB 10.2 MB/s eta 0:00:11\n",
      "   ---------------------------- ---------- 273.2/376.0 MB 10.3 MB/s eta 0:00:11\n",
      "   ---------------------------- ---------- 275.8/376.0 MB 10.2 MB/s eta 0:00:10\n",
      "   ---------------------------- ---------- 277.9/376.0 MB 10.2 MB/s eta 0:00:10\n",
      "   ----------------------------- --------- 280.2/376.0 MB 10.2 MB/s eta 0:00:10\n",
      "   ----------------------------- --------- 282.6/376.0 MB 10.2 MB/s eta 0:00:10\n",
      "   ----------------------------- --------- 284.7/376.0 MB 10.2 MB/s eta 0:00:09\n",
      "   ----------------------------- --------- 286.5/376.0 MB 10.2 MB/s eta 0:00:09\n",
      "   ----------------------------- --------- 288.6/376.0 MB 10.2 MB/s eta 0:00:09\n",
      "   ------------------------------ -------- 291.8/376.0 MB 10.2 MB/s eta 0:00:09\n",
      "   ------------------------------ -------- 293.6/376.0 MB 10.2 MB/s eta 0:00:09\n",
      "   ------------------------------ -------- 296.7/376.0 MB 10.2 MB/s eta 0:00:08\n",
      "   ------------------------------- ------- 298.8/376.0 MB 10.2 MB/s eta 0:00:08\n",
      "   ------------------------------- ------- 301.5/376.0 MB 10.2 MB/s eta 0:00:08\n",
      "   ------------------------------- ------- 303.6/376.0 MB 10.2 MB/s eta 0:00:08\n",
      "   ------------------------------- ------- 305.7/376.0 MB 10.2 MB/s eta 0:00:07\n",
      "   -------------------------------- ------ 308.5/376.0 MB 10.2 MB/s eta 0:00:07\n",
      "   -------------------------------- ------ 310.6/376.0 MB 10.2 MB/s eta 0:00:07\n",
      "   -------------------------------- ------ 313.5/376.0 MB 10.2 MB/s eta 0:00:07\n",
      "   -------------------------------- ------ 316.4/376.0 MB 10.2 MB/s eta 0:00:06\n",
      "   --------------------------------- ----- 319.0/376.0 MB 10.2 MB/s eta 0:00:06\n",
      "   --------------------------------- ----- 321.4/376.0 MB 10.2 MB/s eta 0:00:06\n",
      "   --------------------------------- ----- 323.2/376.0 MB 10.2 MB/s eta 0:00:06\n",
      "   --------------------------------- ----- 326.4/376.0 MB 10.2 MB/s eta 0:00:05\n",
      "   --------------------------------- ----- 327.4/376.0 MB 10.2 MB/s eta 0:00:05\n",
      "   ---------------------------------- ---- 330.3/376.0 MB 10.2 MB/s eta 0:00:05\n",
      "   ---------------------------------- ---- 332.7/376.0 MB 10.2 MB/s eta 0:00:05\n",
      "   ---------------------------------- ---- 335.5/376.0 MB 10.2 MB/s eta 0:00:04\n",
      "   ----------------------------------- --- 337.6/376.0 MB 10.2 MB/s eta 0:00:04\n",
      "   ----------------------------------- --- 339.5/376.0 MB 10.2 MB/s eta 0:00:04\n",
      "   ----------------------------------- --- 341.3/376.0 MB 10.2 MB/s eta 0:00:04\n",
      "   ----------------------------------- --- 343.4/376.0 MB 10.1 MB/s eta 0:00:04\n",
      "   ----------------------------------- --- 346.0/376.0 MB 10.1 MB/s eta 0:00:03\n",
      "   ------------------------------------ -- 347.1/376.0 MB 10.1 MB/s eta 0:00:03\n",
      "   ------------------------------------ -- 348.4/376.0 MB 10.1 MB/s eta 0:00:03\n",
      "   ------------------------------------ -- 351.0/376.0 MB 10.0 MB/s eta 0:00:03\n",
      "   ------------------------------------ -- 352.6/376.0 MB 10.0 MB/s eta 0:00:03\n",
      "   ------------------------------------ -- 355.2/376.0 MB 10.0 MB/s eta 0:00:03\n",
      "   ------------------------------------- - 358.6/376.0 MB 10.1 MB/s eta 0:00:02\n",
      "   ------------------------------------- - 359.7/376.0 MB 10.0 MB/s eta 0:00:02\n",
      "   ------------------------------------- - 361.0/376.0 MB 10.0 MB/s eta 0:00:02\n",
      "   ------------------------------------- - 363.3/376.0 MB 10.0 MB/s eta 0:00:02\n",
      "   --------------------------------------  366.7/376.0 MB 10.0 MB/s eta 0:00:01\n",
      "   --------------------------------------  368.3/376.0 MB 10.0 MB/s eta 0:00:01\n",
      "   --------------------------------------  370.9/376.0 MB 10.1 MB/s eta 0:00:01\n",
      "   --------------------------------------  372.8/376.0 MB 10.0 MB/s eta 0:00:01\n",
      "   --------------------------------------  375.1/376.0 MB 10.1 MB/s eta 0:00:01\n",
      "   --------------------------------------  375.9/376.0 MB 10.1 MB/s eta 0:00:01\n",
      "   --------------------------------------  375.9/376.0 MB 10.1 MB/s eta 0:00:01\n",
      "   --------------------------------------  375.9/376.0 MB 10.1 MB/s eta 0:00:01\n",
      "   --------------------------------------  375.9/376.0 MB 10.1 MB/s eta 0:00:01\n",
      "   --------------------------------------  375.9/376.0 MB 10.1 MB/s eta 0:00:01\n",
      "   --------------------------------------  375.9/376.0 MB 10.1 MB/s eta 0:00:01\n",
      "   --------------------------------------  375.9/376.0 MB 10.1 MB/s eta 0:00:01\n",
      "   --------------------------------------  375.9/376.0 MB 10.1 MB/s eta 0:00:01\n",
      "   --------------------------------------  375.9/376.0 MB 10.1 MB/s eta 0:00:01\n",
      "   ---------------------------------------- 376.0/376.0 MB 9.3 MB/s eta 0:00:00\n",
      "Downloading astunparse-1.6.3-py2.py3-none-any.whl (12 kB)\n",
      "Downloading flatbuffers-25.2.10-py2.py3-none-any.whl (30 kB)\n",
      "Downloading gast-0.6.0-py3-none-any.whl (21 kB)\n",
      "Downloading google_pasta-0.2.0-py3-none-any.whl (57 kB)\n",
      "Downloading grpcio-1.71.0-cp312-cp312-win_amd64.whl (4.3 MB)\n",
      "   ---------------------------------------- 0.0/4.3 MB ? eta -:--:--\n",
      "   ---------------------- ----------------- 2.4/4.3 MB 11.2 MB/s eta 0:00:01\n",
      "   ---------------------------------------  4.2/4.3 MB 9.7 MB/s eta 0:00:01\n",
      "   ---------------------------------------- 4.3/4.3 MB 9.2 MB/s eta 0:00:00\n",
      "Downloading libclang-18.1.1-py2.py3-none-win_amd64.whl (26.4 MB)\n",
      "   ---------------------------------------- 0.0/26.4 MB ? eta -:--:--\n",
      "   --- ------------------------------------ 2.6/26.4 MB 12.5 MB/s eta 0:00:02\n",
      "   ----- ---------------------------------- 3.7/26.4 MB 9.5 MB/s eta 0:00:03\n",
      "   --------- ------------------------------ 6.3/26.4 MB 9.6 MB/s eta 0:00:03\n",
      "   ------------- -------------------------- 9.2/26.4 MB 11.0 MB/s eta 0:00:02\n",
      "   ---------------- ----------------------- 11.0/26.4 MB 10.4 MB/s eta 0:00:02\n",
      "   -------------------- ------------------- 13.4/26.4 MB 10.6 MB/s eta 0:00:02\n",
      "   ----------------------- ---------------- 15.2/26.4 MB 10.4 MB/s eta 0:00:02\n",
      "   --------------------------- ------------ 18.4/26.4 MB 10.8 MB/s eta 0:00:01\n",
      "   ------------------------------- -------- 21.0/26.4 MB 11.0 MB/s eta 0:00:01\n",
      "   --------------------------------- ------ 22.3/26.4 MB 10.4 MB/s eta 0:00:01\n",
      "   -------------------------------------- - 25.2/26.4 MB 10.6 MB/s eta 0:00:01\n",
      "   ---------------------------------------- 26.4/26.4 MB 10.2 MB/s eta 0:00:00\n",
      "Downloading tensorboard-2.19.0-py3-none-any.whl (5.5 MB)\n",
      "   ---------------------------------------- 0.0/5.5 MB ? eta -:--:--\n",
      "   --------------- ------------------------ 2.1/5.5 MB 11.7 MB/s eta 0:00:01\n",
      "   ------------------------------ --------- 4.2/5.5 MB 10.5 MB/s eta 0:00:01\n",
      "   ---------------------------------------- 5.5/5.5 MB 9.9 MB/s eta 0:00:00\n",
      "Downloading termcolor-3.0.1-py3-none-any.whl (7.2 kB)\n",
      "Downloading tensorboard_data_server-0.7.2-py3-none-any.whl (2.4 kB)\n",
      "Installing collected packages: libclang, flatbuffers, termcolor, tensorboard-data-server, grpcio, google-pasta, gast, astunparse, tensorboard, tensorflow\n",
      "Successfully installed astunparse-1.6.3 flatbuffers-25.2.10 gast-0.6.0 google-pasta-0.2.0 grpcio-1.71.0 libclang-18.1.1 tensorboard-2.19.0 tensorboard-data-server-0.7.2 tensorflow-2.19.0 termcolor-3.0.1\n",
      "Note: you may need to restart the kernel to use updated packages.\n"
     ]
    }
   ],
   "source": [
    "pip install tensorflow"
   ]
  },
  {
   "cell_type": "code",
   "execution_count": 76,
   "metadata": {
    "colab": {
     "base_uri": "https://localhost:8080/"
    },
    "id": "HAzf5YdFvzxR",
    "outputId": "987a0bc7-0ba4-42f5-ff84-bfdb41925743"
   },
   "outputs": [
    {
     "data": {
      "text/html": [
       "<div>\n",
       "<style scoped>\n",
       "    .dataframe tbody tr th:only-of-type {\n",
       "        vertical-align: middle;\n",
       "    }\n",
       "\n",
       "    .dataframe tbody tr th {\n",
       "        vertical-align: top;\n",
       "    }\n",
       "\n",
       "    .dataframe thead th {\n",
       "        text-align: right;\n",
       "    }\n",
       "</style>\n",
       "<table border=\"1\" class=\"dataframe\">\n",
       "  <thead>\n",
       "    <tr style=\"text-align: right;\">\n",
       "      <th></th>\n",
       "      <th>Adj Close Chevron stock</th>\n",
       "    </tr>\n",
       "    <tr>\n",
       "      <th>Date</th>\n",
       "      <th></th>\n",
       "    </tr>\n",
       "  </thead>\n",
       "  <tbody>\n",
       "    <tr>\n",
       "      <th>2019-03-18</th>\n",
       "      <td>103.110886</td>\n",
       "    </tr>\n",
       "    <tr>\n",
       "      <th>2019-03-19</th>\n",
       "      <td>102.619423</td>\n",
       "    </tr>\n",
       "    <tr>\n",
       "      <th>2019-03-20</th>\n",
       "      <td>102.136162</td>\n",
       "    </tr>\n",
       "    <tr>\n",
       "      <th>2019-03-21</th>\n",
       "      <td>103.094521</td>\n",
       "    </tr>\n",
       "    <tr>\n",
       "      <th>2019-03-22</th>\n",
       "      <td>100.825546</td>\n",
       "    </tr>\n",
       "  </tbody>\n",
       "</table>\n",
       "</div>"
      ],
      "text/plain": [
       "            Adj Close Chevron stock\n",
       "Date                               \n",
       "2019-03-18               103.110886\n",
       "2019-03-19               102.619423\n",
       "2019-03-20               102.136162\n",
       "2019-03-21               103.094521\n",
       "2019-03-22               100.825546"
      ]
     },
     "execution_count": 76,
     "metadata": {},
     "output_type": "execute_result"
    }
   ],
   "source": [
    "import numpy as np\n",
    "import pandas as pd\n",
    "from sklearn.model_selection import train_test_split\n",
    "from sklearn.preprocessing import MinMaxScaler\n",
    "from sklearn.metrics import r2_score\n",
    "import keras\n",
    "from keras.models import Sequential\n",
    "from keras.layers import LSTM, Dense\n",
    "\n",
    "data = pd.read_csv(\"assets/dc dataset final.csv\")\n",
    "data = data[[\"Date\", \"Adj Close Chevron stock\"]]\n",
    "\n",
    "data[\"Date\"] = pd.to_datetime(data[\"Date\"], format='%d-%m-%Y', errors='coerce')\n",
    "data.set_index('Date', inplace=True)\n",
    "\n",
    "data = data.drop(data.tail(2).index)\n",
    "data.tail()\n",
    "\n",
    "\n",
    "# df.head()\n",
    "# df.tail()\n",
    "\n",
    "# data = pd.read_csv('/content/drive/MyDrive/Stock Price Data/CVX.csv')\n",
    "# data = data[['Date', 'Adj Close']]\n",
    "\n",
    "\n",
    "# data['Date'] = pd.to_datetime(data['Date'])\n",
    "# data.set_index('Date', inplace=True)\n"
   ]
  },
  {
   "cell_type": "code",
   "execution_count": 92,
   "metadata": {
    "id": "yrC1TY3bXAgQ"
   },
   "outputs": [
    {
     "name": "stderr",
     "output_type": "stream",
     "text": [
      "C:\\Users\\sapta\\anaconda3\\Lib\\site-packages\\keras\\src\\layers\\rnn\\rnn.py:200: UserWarning: Do not pass an `input_shape`/`input_dim` argument to a layer. When using Sequential models, prefer using an `Input(shape)` object as the first layer in the model instead.\n",
      "  super().__init__(**kwargs)\n"
     ]
    },
    {
     "name": "stdout",
     "output_type": "stream",
     "text": [
      "Epoch 1/10\n",
      "\u001b[1m63/63\u001b[0m \u001b[32m━━━━━━━━━━━━━━━━━━━━\u001b[0m\u001b[37m\u001b[0m \u001b[1m6s\u001b[0m 32ms/step - loss: 0.1198 - val_loss: 0.0043\n",
      "Epoch 2/10\n",
      "\u001b[1m63/63\u001b[0m \u001b[32m━━━━━━━━━━━━━━━━━━━━\u001b[0m\u001b[37m\u001b[0m \u001b[1m1s\u001b[0m 19ms/step - loss: 0.0024 - val_loss: 0.0022\n",
      "Epoch 3/10\n",
      "\u001b[1m63/63\u001b[0m \u001b[32m━━━━━━━━━━━━━━━━━━━━\u001b[0m\u001b[37m\u001b[0m \u001b[1m1s\u001b[0m 18ms/step - loss: 0.0014 - val_loss: 0.0020\n",
      "Epoch 4/10\n",
      "\u001b[1m63/63\u001b[0m \u001b[32m━━━━━━━━━━━━━━━━━━━━\u001b[0m\u001b[37m\u001b[0m \u001b[1m1s\u001b[0m 21ms/step - loss: 0.0013 - val_loss: 0.0022\n",
      "Epoch 5/10\n",
      "\u001b[1m63/63\u001b[0m \u001b[32m━━━━━━━━━━━━━━━━━━━━\u001b[0m\u001b[37m\u001b[0m \u001b[1m2s\u001b[0m 22ms/step - loss: 0.0013 - val_loss: 0.0022\n",
      "Epoch 6/10\n",
      "\u001b[1m63/63\u001b[0m \u001b[32m━━━━━━━━━━━━━━━━━━━━\u001b[0m\u001b[37m\u001b[0m \u001b[1m1s\u001b[0m 18ms/step - loss: 0.0013 - val_loss: 0.0021\n",
      "Epoch 7/10\n",
      "\u001b[1m63/63\u001b[0m \u001b[32m━━━━━━━━━━━━━━━━━━━━\u001b[0m\u001b[37m\u001b[0m \u001b[1m1s\u001b[0m 20ms/step - loss: 0.0013 - val_loss: 0.0020\n",
      "Epoch 8/10\n",
      "\u001b[1m63/63\u001b[0m \u001b[32m━━━━━━━━━━━━━━━━━━━━\u001b[0m\u001b[37m\u001b[0m \u001b[1m1s\u001b[0m 19ms/step - loss: 0.0013 - val_loss: 0.0019\n",
      "Epoch 9/10\n",
      "\u001b[1m63/63\u001b[0m \u001b[32m━━━━━━━━━━━━━━━━━━━━\u001b[0m\u001b[37m\u001b[0m \u001b[1m1s\u001b[0m 21ms/step - loss: 0.0012 - val_loss: 0.0019\n",
      "Epoch 10/10\n",
      "\u001b[1m63/63\u001b[0m \u001b[32m━━━━━━━━━━━━━━━━━━━━\u001b[0m\u001b[37m\u001b[0m \u001b[1m2s\u001b[0m 28ms/step - loss: 0.0012 - val_loss: 0.0018\n",
      "\u001b[1m8/8\u001b[0m \u001b[32m━━━━━━━━━━━━━━━━━━━━\u001b[0m\u001b[37m\u001b[0m \u001b[1m2s\u001b[0m 65ms/step\n",
      "R^2 Score on Test Data: 0.6750613637560314\n"
     ]
    }
   ],
   "source": [
    "## A step-by-step tutorial on LSTM:\n",
    "## https://machinelearningmastery.com/time-series-prediction-lstm-recurrent-neural-networks-python-keras/\n",
    "##\n",
    "\n",
    "## Fix random seed for reproducibility\n",
    "## Ref: https://keras.io/examples/keras_recipes/reproducibility_recipes/\n",
    "keras.utils.set_random_seed(42)\n",
    "\n",
    "time_steps = 8\n",
    "\n",
    "# Create sequences of data for training\n",
    "sequences = []\n",
    "targets = []\n",
    "for i in range(len(data) - time_steps):\n",
    "    seq = data['Adj Close Chevron stock'].values[i:i+time_steps]\n",
    "    label = data['Adj Close Chevron stock'].values[i+time_steps]\n",
    "    sequences.append(seq)\n",
    "    targets.append(label)\n",
    "\n",
    "sequences = np.array(sequences)\n",
    "targets = np.array(targets)\n",
    "\n",
    "## Scale the data in such a way that\n",
    "## the values of each feature lies in [0, 1].\n",
    "## Ref1: https://scikit-learn.org/stable/modules/generated/sklearn.preprocessing.MinMaxScaler.html\n",
    "## Ref2: https://machinelearningmastery.com/time-series-prediction-lstm-recurrent-neural-networks-python-keras/\n",
    "scaler = MinMaxScaler(feature_range=(0, 1))\n",
    "sequences = scaler.fit_transform(sequences.reshape(-1, 1)).reshape(-1, time_steps, 1)\n",
    "targets = targets.reshape(-1, 1)\n",
    "targets = scaler.fit_transform(targets)\n",
    "\n",
    "## Split the data in such a way that\n",
    "## the first 80% of the sequences and their corr. target labels make the training data while\n",
    "## the remaining 20% of the sequences and their corr. target labels make the test data.\n",
    "split_index = int(0.8 * len(sequences))\n",
    "X_train, X_test = sequences[:split_index], sequences[split_index:]\n",
    "y_train, y_test = targets[:split_index], targets[split_index:]\n",
    "\n",
    "## Initialize a sequential model with an input layer.\n",
    "## A sequential model is comprised of a stack of layers and\n",
    "## each layer has exactly one input tensor and one output tensor.\n",
    "## Additionally, the model itself should have a single tensor as input and\n",
    "## a single tensor as output.\n",
    "## Ref: https://keras.io/guides/sequential_model/\n",
    "model = Sequential()\n",
    "\n",
    "## Add a hidden LSTM layer with 50 LSTM cells/neurons.\n",
    "## The shape of the input tensor to this layer should be (time_steps, 1).\n",
    "model.add(LSTM(units=50, input_shape=(time_steps, 1)))\n",
    "\n",
    "## Add an output layer with a single neuron\n",
    "model.add(Dense(units=1))\n",
    "\n",
    "## Configure the model before training begins.\n",
    "## Use the 'mean squared error' as the loss function.\n",
    "## A loss function is used to measure the difference between \n",
    "## the actual values and predicted values.\n",
    "## Ref: \n",
    "## Use the 'Adam algorithm' to update the model weights based \n",
    "## on the value of the loss function. \n",
    "## Ref: https://keras.io/api/optimizers/adam/\n",
    "model.compile(optimizer='adam', loss='mean_squared_error')\n",
    "\n",
    "## Train the network for 10 epochs with a batch size of 16.\n",
    "## An epoch is an iteration over the entire training data.\n",
    "## The batch size represents the number of samples to be utilised\n",
    "## per gradient update.\n",
    "## Also, point the model to the validation data on which \n",
    "## the model will be tested after training.\n",
    "## Ref: https://keras.io/api/models/model_training_apis/\n",
    "model.fit(X_train, y_train, epochs=10, batch_size=16, validation_data=(X_test, y_test))\n",
    "\n",
    "## Make predictions on the test data\n",
    "predictions = model.predict(X_test)\n",
    "\n",
    "## Compute R-squared \n",
    "predictions = scaler.inverse_transform(predictions.reshape(-1, 1))\n",
    "y_test = scaler.inverse_transform(y_test)\n",
    "r2 = r2_score(y_test, predictions)\n",
    "print(f'R^2 Score on Test Data: {r2}')"
   ]
  },
  {
   "cell_type": "code",
   "execution_count": null,
   "metadata": {},
   "outputs": [],
   "source": []
  }
 ],
 "metadata": {
  "colab": {
   "provenance": []
  },
  "kernelspec": {
   "display_name": "Python [conda env:base] *",
   "language": "python",
   "name": "conda-base-py"
  },
  "language_info": {
   "codemirror_mode": {
    "name": "ipython",
    "version": 3
   },
   "file_extension": ".py",
   "mimetype": "text/x-python",
   "name": "python",
   "nbconvert_exporter": "python",
   "pygments_lexer": "ipython3",
   "version": "3.12.7"
  },
  "widgets": {
   "application/vnd.jupyter.widget-state+json": {
    "0b5f5803b53e40f5942e919a8f80527e": {
     "model_module": "@jupyter-widgets/base",
     "model_module_version": "1.2.0",
     "model_name": "LayoutModel",
     "state": {
      "_model_module": "@jupyter-widgets/base",
      "_model_module_version": "1.2.0",
      "_model_name": "LayoutModel",
      "_view_count": null,
      "_view_module": "@jupyter-widgets/base",
      "_view_module_version": "1.2.0",
      "_view_name": "LayoutView",
      "align_content": null,
      "align_items": null,
      "align_self": null,
      "border": null,
      "bottom": null,
      "display": null,
      "flex": null,
      "flex_flow": null,
      "grid_area": null,
      "grid_auto_columns": null,
      "grid_auto_flow": null,
      "grid_auto_rows": null,
      "grid_column": null,
      "grid_gap": null,
      "grid_row": null,
      "grid_template_areas": null,
      "grid_template_columns": null,
      "grid_template_rows": null,
      "height": null,
      "justify_content": null,
      "justify_items": null,
      "left": null,
      "margin": null,
      "max_height": null,
      "max_width": null,
      "min_height": null,
      "min_width": null,
      "object_fit": null,
      "object_position": null,
      "order": null,
      "overflow": null,
      "overflow_x": null,
      "overflow_y": null,
      "padding": null,
      "right": null,
      "top": null,
      "visibility": null,
      "width": null
     }
    },
    "369bd44d282148f898dc9dff40fcac36": {
     "model_module": "@jupyter-widgets/controls",
     "model_module_version": "1.5.0",
     "model_name": "HTMLModel",
     "state": {
      "_dom_classes": [],
      "_model_module": "@jupyter-widgets/controls",
      "_model_module_version": "1.5.0",
      "_model_name": "HTMLModel",
      "_view_count": null,
      "_view_module": "@jupyter-widgets/controls",
      "_view_module_version": "1.5.0",
      "_view_name": "HTMLView",
      "description": "",
      "description_tooltip": null,
      "layout": "IPY_MODEL_953698935b074218be158053fafc429e",
      "placeholder": "​",
      "style": "IPY_MODEL_db067f63ec5c468f8fa4f2a5aa4067dd",
      "value": "  0%"
     }
    },
    "43fb1c6bcb314420b9bf1c50f5d725e5": {
     "model_module": "@jupyter-widgets/controls",
     "model_module_version": "1.5.0",
     "model_name": "HTMLModel",
     "state": {
      "_dom_classes": [],
      "_model_module": "@jupyter-widgets/controls",
      "_model_module_version": "1.5.0",
      "_model_name": "HTMLModel",
      "_view_count": null,
      "_view_module": "@jupyter-widgets/controls",
      "_view_module_version": "1.5.0",
      "_view_name": "HTMLView",
      "description": "",
      "description_tooltip": null,
      "layout": "IPY_MODEL_a16a992a888544f292bc6afb32220b9b",
      "placeholder": "​",
      "style": "IPY_MODEL_aeeebffd8eee4d1c802a3e5bb9a559d4",
      "value": " 11/1000000 [00:00&lt;9:47:09, 28.39it/s]"
     }
    },
    "4ccac16c13224285815e28d0debdbfdf": {
     "model_module": "@jupyter-widgets/controls",
     "model_module_version": "1.5.0",
     "model_name": "FloatProgressModel",
     "state": {
      "_dom_classes": [],
      "_model_module": "@jupyter-widgets/controls",
      "_model_module_version": "1.5.0",
      "_model_name": "FloatProgressModel",
      "_view_count": null,
      "_view_module": "@jupyter-widgets/controls",
      "_view_module_version": "1.5.0",
      "_view_name": "ProgressView",
      "bar_style": "danger",
      "description": "",
      "description_tooltip": null,
      "layout": "IPY_MODEL_c8cf57187adf40d18f3ebf57c0f10f64",
      "max": 1000000,
      "min": 0,
      "orientation": "horizontal",
      "style": "IPY_MODEL_5dc1bb85f2d54e4ba63e1b7e2335988a",
      "value": 11
     }
    },
    "5dc1bb85f2d54e4ba63e1b7e2335988a": {
     "model_module": "@jupyter-widgets/controls",
     "model_module_version": "1.5.0",
     "model_name": "ProgressStyleModel",
     "state": {
      "_model_module": "@jupyter-widgets/controls",
      "_model_module_version": "1.5.0",
      "_model_name": "ProgressStyleModel",
      "_view_count": null,
      "_view_module": "@jupyter-widgets/base",
      "_view_module_version": "1.2.0",
      "_view_name": "StyleView",
      "bar_color": null,
      "description_width": ""
     }
    },
    "661c77fcd54c44d0b4f3c0de21ecf339": {
     "model_module": "@jupyter-widgets/controls",
     "model_module_version": "1.5.0",
     "model_name": "HBoxModel",
     "state": {
      "_dom_classes": [],
      "_model_module": "@jupyter-widgets/controls",
      "_model_module_version": "1.5.0",
      "_model_name": "HBoxModel",
      "_view_count": null,
      "_view_module": "@jupyter-widgets/controls",
      "_view_module_version": "1.5.0",
      "_view_name": "HBoxView",
      "box_style": "",
      "children": [
       "IPY_MODEL_369bd44d282148f898dc9dff40fcac36",
       "IPY_MODEL_4ccac16c13224285815e28d0debdbfdf",
       "IPY_MODEL_43fb1c6bcb314420b9bf1c50f5d725e5"
      ],
      "layout": "IPY_MODEL_0b5f5803b53e40f5942e919a8f80527e"
     }
    },
    "953698935b074218be158053fafc429e": {
     "model_module": "@jupyter-widgets/base",
     "model_module_version": "1.2.0",
     "model_name": "LayoutModel",
     "state": {
      "_model_module": "@jupyter-widgets/base",
      "_model_module_version": "1.2.0",
      "_model_name": "LayoutModel",
      "_view_count": null,
      "_view_module": "@jupyter-widgets/base",
      "_view_module_version": "1.2.0",
      "_view_name": "LayoutView",
      "align_content": null,
      "align_items": null,
      "align_self": null,
      "border": null,
      "bottom": null,
      "display": null,
      "flex": null,
      "flex_flow": null,
      "grid_area": null,
      "grid_auto_columns": null,
      "grid_auto_flow": null,
      "grid_auto_rows": null,
      "grid_column": null,
      "grid_gap": null,
      "grid_row": null,
      "grid_template_areas": null,
      "grid_template_columns": null,
      "grid_template_rows": null,
      "height": null,
      "justify_content": null,
      "justify_items": null,
      "left": null,
      "margin": null,
      "max_height": null,
      "max_width": null,
      "min_height": null,
      "min_width": null,
      "object_fit": null,
      "object_position": null,
      "order": null,
      "overflow": null,
      "overflow_x": null,
      "overflow_y": null,
      "padding": null,
      "right": null,
      "top": null,
      "visibility": null,
      "width": null
     }
    },
    "a16a992a888544f292bc6afb32220b9b": {
     "model_module": "@jupyter-widgets/base",
     "model_module_version": "1.2.0",
     "model_name": "LayoutModel",
     "state": {
      "_model_module": "@jupyter-widgets/base",
      "_model_module_version": "1.2.0",
      "_model_name": "LayoutModel",
      "_view_count": null,
      "_view_module": "@jupyter-widgets/base",
      "_view_module_version": "1.2.0",
      "_view_name": "LayoutView",
      "align_content": null,
      "align_items": null,
      "align_self": null,
      "border": null,
      "bottom": null,
      "display": null,
      "flex": null,
      "flex_flow": null,
      "grid_area": null,
      "grid_auto_columns": null,
      "grid_auto_flow": null,
      "grid_auto_rows": null,
      "grid_column": null,
      "grid_gap": null,
      "grid_row": null,
      "grid_template_areas": null,
      "grid_template_columns": null,
      "grid_template_rows": null,
      "height": null,
      "justify_content": null,
      "justify_items": null,
      "left": null,
      "margin": null,
      "max_height": null,
      "max_width": null,
      "min_height": null,
      "min_width": null,
      "object_fit": null,
      "object_position": null,
      "order": null,
      "overflow": null,
      "overflow_x": null,
      "overflow_y": null,
      "padding": null,
      "right": null,
      "top": null,
      "visibility": null,
      "width": null
     }
    },
    "aeeebffd8eee4d1c802a3e5bb9a559d4": {
     "model_module": "@jupyter-widgets/controls",
     "model_module_version": "1.5.0",
     "model_name": "DescriptionStyleModel",
     "state": {
      "_model_module": "@jupyter-widgets/controls",
      "_model_module_version": "1.5.0",
      "_model_name": "DescriptionStyleModel",
      "_view_count": null,
      "_view_module": "@jupyter-widgets/base",
      "_view_module_version": "1.2.0",
      "_view_name": "StyleView",
      "description_width": ""
     }
    },
    "c8cf57187adf40d18f3ebf57c0f10f64": {
     "model_module": "@jupyter-widgets/base",
     "model_module_version": "1.2.0",
     "model_name": "LayoutModel",
     "state": {
      "_model_module": "@jupyter-widgets/base",
      "_model_module_version": "1.2.0",
      "_model_name": "LayoutModel",
      "_view_count": null,
      "_view_module": "@jupyter-widgets/base",
      "_view_module_version": "1.2.0",
      "_view_name": "LayoutView",
      "align_content": null,
      "align_items": null,
      "align_self": null,
      "border": null,
      "bottom": null,
      "display": null,
      "flex": null,
      "flex_flow": null,
      "grid_area": null,
      "grid_auto_columns": null,
      "grid_auto_flow": null,
      "grid_auto_rows": null,
      "grid_column": null,
      "grid_gap": null,
      "grid_row": null,
      "grid_template_areas": null,
      "grid_template_columns": null,
      "grid_template_rows": null,
      "height": null,
      "justify_content": null,
      "justify_items": null,
      "left": null,
      "margin": null,
      "max_height": null,
      "max_width": null,
      "min_height": null,
      "min_width": null,
      "object_fit": null,
      "object_position": null,
      "order": null,
      "overflow": null,
      "overflow_x": null,
      "overflow_y": null,
      "padding": null,
      "right": null,
      "top": null,
      "visibility": null,
      "width": null
     }
    },
    "db067f63ec5c468f8fa4f2a5aa4067dd": {
     "model_module": "@jupyter-widgets/controls",
     "model_module_version": "1.5.0",
     "model_name": "DescriptionStyleModel",
     "state": {
      "_model_module": "@jupyter-widgets/controls",
      "_model_module_version": "1.5.0",
      "_model_name": "DescriptionStyleModel",
      "_view_count": null,
      "_view_module": "@jupyter-widgets/base",
      "_view_module_version": "1.2.0",
      "_view_name": "StyleView",
      "description_width": ""
     }
    }
   }
  }
 },
 "nbformat": 4,
 "nbformat_minor": 4
}
